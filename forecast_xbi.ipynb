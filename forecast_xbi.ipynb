{
  "nbformat": 4,
  "nbformat_minor": 0,
  "metadata": {
    "colab": {
      "provenance": []
    },
    "kernelspec": {
      "name": "python3",
      "display_name": "Python 3"
    },
    "language_info": {
      "name": "python"
    }
  },
  "cells": [
    {
      "cell_type": "markdown",
      "source": [
        "### Purpose\n",
        "This research hopes to find a more accurate way of predicting stock prices or the direction of change by trying several machine learning methods, which can bring a return on investment. The subject of the study is XBI, an ETF consisting of small companies in the biotech sector in the U.S. Since small companies in biotech rely heavily on financing, there is a strong relationship between their stock prices and market interest rates. Treasury yields can represent current and projected future market interest rates in the stock market. Therefore, one can combine changes in Treasury yields with XBI's historical prices to predict XBI's future stock price or change direction. We will try several combinations of data and different machine-learning methods to find the best way that can help with investing."
      ],
      "metadata": {
        "id": "EXork8kLO_74"
      }
    },
    {
      "cell_type": "markdown",
      "source": [
        "## Prepare Data"
      ],
      "metadata": {
        "id": "JOXJTpjLNSZo"
      }
    },
    {
      "cell_type": "code",
      "source": [
        "import pandas as pd\n",
        "import numpy as np\n",
        "import pprint\n",
        "import tensorflow as tf\n",
        "import matplotlib.pyplot as plt\n",
        "from datetime import datetime\n",
        "import matplotlib.dates as mdates\n",
        "from sklearn.preprocessing import MinMaxScaler\n",
        "from tensorflow.keras.models import Sequential\n",
        "from tensorflow.keras.layers import SimpleRNN, LSTM, Activation, Dropout, Dense, Reshape, Conv1D, Conv2D, Flatten, MaxPooling2D\n",
        "from sklearn.metrics import mean_squared_error\n",
        "import random\n",
        "%matplotlib inline"
      ],
      "metadata": {
        "id": "8kgdAjdoHcgQ"
      },
      "execution_count": 473,
      "outputs": []
    },
    {
      "cell_type": "code",
      "execution_count": 474,
      "metadata": {
        "id": "06bL2HWofMbw"
      },
      "outputs": [],
      "source": [
        "# Obtain last 5 years data on Treasury yields\n",
        "import gdown"
      ]
    },
    {
      "cell_type": "code",
      "source": [
        "gdown.download(f\"https://drive.google.com/uc?id=163bKMc1LyetlUJ0lEoyMPof0Bfu-BqMI\", output='30years', quiet=True)\n",
        "gdown.download(f\"https://drive.google.com/uc?id=1DpFCPMu5SG2LbuMqry-9nvWUO8mfq-xq\", output='10years', quiet=True)\n",
        "gdown.download(f\"https://drive.google.com/uc?id=1JQIJDiEAclEM1NyfM5K8wTU2h9OaZPL1\", output='5years', quiet=True)\n"
      ],
      "metadata": {
        "colab": {
          "base_uri": "https://localhost:8080/",
          "height": 35
        },
        "id": "_o9f_swAGjB0",
        "outputId": "a8b2914e-7b05-401c-d7ee-7fb072efc9a6"
      },
      "execution_count": 475,
      "outputs": [
        {
          "output_type": "execute_result",
          "data": {
            "text/plain": [
              "'5years'"
            ],
            "application/vnd.google.colaboratory.intrinsic+json": {
              "type": "string"
            }
          },
          "metadata": {},
          "execution_count": 475
        }
      ]
    },
    {
      "cell_type": "code",
      "source": [
        "# 30 year Treasry yield\n",
        "df30 = pd.read_csv('30years')\n",
        "# 10 year Treasry yield\n",
        "df10 = pd.read_csv('10years')\n",
        "# 5 year Treasry yield\n",
        "df5 = pd.read_csv('5years')\n",
        "# shape of one data frame\n",
        "df30.shape"
      ],
      "metadata": {
        "colab": {
          "base_uri": "https://localhost:8080/"
        },
        "id": "SC8gEmZ_HWTI",
        "outputId": "b086284c-98a3-462a-c89f-aa8b4f74c8fd"
      },
      "execution_count": 476,
      "outputs": [
        {
          "output_type": "execute_result",
          "data": {
            "text/plain": [
              "(1518, 7)"
            ]
          },
          "metadata": {},
          "execution_count": 476
        }
      ]
    },
    {
      "cell_type": "code",
      "source": [
        "# show head of one data frame\n",
        "df10.head(5)"
      ],
      "metadata": {
        "colab": {
          "base_uri": "https://localhost:8080/",
          "height": 206
        },
        "id": "VWWToUCLHtev",
        "outputId": "7fd0d7fa-6f9e-4c2c-e082-63bdbe2ce100"
      },
      "execution_count": 477,
      "outputs": [
        {
          "output_type": "execute_result",
          "data": {
            "text/plain": [
              "         Date   Open   High    Low  Close  Adj Close  Volume\n",
              "0  2018-10-29  3.094  3.117  3.085  3.087      3.087     0.0\n",
              "1  2018-10-30  3.117  3.123  3.094  3.110      3.110     0.0\n",
              "2  2018-10-31  3.149  3.161  3.134  3.159      3.159     0.0\n",
              "3  2018-11-01  3.164  3.174  3.136  3.144      3.144     0.0\n",
              "4  2018-11-02  3.155  3.216  3.155  3.214      3.214     0.0"
            ],
            "text/html": [
              "\n",
              "  <div id=\"df-945599ba-2fd2-4a67-9c01-59dfb9d888a8\" class=\"colab-df-container\">\n",
              "    <div>\n",
              "<style scoped>\n",
              "    .dataframe tbody tr th:only-of-type {\n",
              "        vertical-align: middle;\n",
              "    }\n",
              "\n",
              "    .dataframe tbody tr th {\n",
              "        vertical-align: top;\n",
              "    }\n",
              "\n",
              "    .dataframe thead th {\n",
              "        text-align: right;\n",
              "    }\n",
              "</style>\n",
              "<table border=\"1\" class=\"dataframe\">\n",
              "  <thead>\n",
              "    <tr style=\"text-align: right;\">\n",
              "      <th></th>\n",
              "      <th>Date</th>\n",
              "      <th>Open</th>\n",
              "      <th>High</th>\n",
              "      <th>Low</th>\n",
              "      <th>Close</th>\n",
              "      <th>Adj Close</th>\n",
              "      <th>Volume</th>\n",
              "    </tr>\n",
              "  </thead>\n",
              "  <tbody>\n",
              "    <tr>\n",
              "      <th>0</th>\n",
              "      <td>2018-10-29</td>\n",
              "      <td>3.094</td>\n",
              "      <td>3.117</td>\n",
              "      <td>3.085</td>\n",
              "      <td>3.087</td>\n",
              "      <td>3.087</td>\n",
              "      <td>0.0</td>\n",
              "    </tr>\n",
              "    <tr>\n",
              "      <th>1</th>\n",
              "      <td>2018-10-30</td>\n",
              "      <td>3.117</td>\n",
              "      <td>3.123</td>\n",
              "      <td>3.094</td>\n",
              "      <td>3.110</td>\n",
              "      <td>3.110</td>\n",
              "      <td>0.0</td>\n",
              "    </tr>\n",
              "    <tr>\n",
              "      <th>2</th>\n",
              "      <td>2018-10-31</td>\n",
              "      <td>3.149</td>\n",
              "      <td>3.161</td>\n",
              "      <td>3.134</td>\n",
              "      <td>3.159</td>\n",
              "      <td>3.159</td>\n",
              "      <td>0.0</td>\n",
              "    </tr>\n",
              "    <tr>\n",
              "      <th>3</th>\n",
              "      <td>2018-11-01</td>\n",
              "      <td>3.164</td>\n",
              "      <td>3.174</td>\n",
              "      <td>3.136</td>\n",
              "      <td>3.144</td>\n",
              "      <td>3.144</td>\n",
              "      <td>0.0</td>\n",
              "    </tr>\n",
              "    <tr>\n",
              "      <th>4</th>\n",
              "      <td>2018-11-02</td>\n",
              "      <td>3.155</td>\n",
              "      <td>3.216</td>\n",
              "      <td>3.155</td>\n",
              "      <td>3.214</td>\n",
              "      <td>3.214</td>\n",
              "      <td>0.0</td>\n",
              "    </tr>\n",
              "  </tbody>\n",
              "</table>\n",
              "</div>\n",
              "    <div class=\"colab-df-buttons\">\n",
              "\n",
              "  <div class=\"colab-df-container\">\n",
              "    <button class=\"colab-df-convert\" onclick=\"convertToInteractive('df-945599ba-2fd2-4a67-9c01-59dfb9d888a8')\"\n",
              "            title=\"Convert this dataframe to an interactive table.\"\n",
              "            style=\"display:none;\">\n",
              "\n",
              "  <svg xmlns=\"http://www.w3.org/2000/svg\" height=\"24px\" viewBox=\"0 -960 960 960\">\n",
              "    <path d=\"M120-120v-720h720v720H120Zm60-500h600v-160H180v160Zm220 220h160v-160H400v160Zm0 220h160v-160H400v160ZM180-400h160v-160H180v160Zm440 0h160v-160H620v160ZM180-180h160v-160H180v160Zm440 0h160v-160H620v160Z\"/>\n",
              "  </svg>\n",
              "    </button>\n",
              "\n",
              "  <style>\n",
              "    .colab-df-container {\n",
              "      display:flex;\n",
              "      gap: 12px;\n",
              "    }\n",
              "\n",
              "    .colab-df-convert {\n",
              "      background-color: #E8F0FE;\n",
              "      border: none;\n",
              "      border-radius: 50%;\n",
              "      cursor: pointer;\n",
              "      display: none;\n",
              "      fill: #1967D2;\n",
              "      height: 32px;\n",
              "      padding: 0 0 0 0;\n",
              "      width: 32px;\n",
              "    }\n",
              "\n",
              "    .colab-df-convert:hover {\n",
              "      background-color: #E2EBFA;\n",
              "      box-shadow: 0px 1px 2px rgba(60, 64, 67, 0.3), 0px 1px 3px 1px rgba(60, 64, 67, 0.15);\n",
              "      fill: #174EA6;\n",
              "    }\n",
              "\n",
              "    .colab-df-buttons div {\n",
              "      margin-bottom: 4px;\n",
              "    }\n",
              "\n",
              "    [theme=dark] .colab-df-convert {\n",
              "      background-color: #3B4455;\n",
              "      fill: #D2E3FC;\n",
              "    }\n",
              "\n",
              "    [theme=dark] .colab-df-convert:hover {\n",
              "      background-color: #434B5C;\n",
              "      box-shadow: 0px 1px 3px 1px rgba(0, 0, 0, 0.15);\n",
              "      filter: drop-shadow(0px 1px 2px rgba(0, 0, 0, 0.3));\n",
              "      fill: #FFFFFF;\n",
              "    }\n",
              "  </style>\n",
              "\n",
              "    <script>\n",
              "      const buttonEl =\n",
              "        document.querySelector('#df-945599ba-2fd2-4a67-9c01-59dfb9d888a8 button.colab-df-convert');\n",
              "      buttonEl.style.display =\n",
              "        google.colab.kernel.accessAllowed ? 'block' : 'none';\n",
              "\n",
              "      async function convertToInteractive(key) {\n",
              "        const element = document.querySelector('#df-945599ba-2fd2-4a67-9c01-59dfb9d888a8');\n",
              "        const dataTable =\n",
              "          await google.colab.kernel.invokeFunction('convertToInteractive',\n",
              "                                                    [key], {});\n",
              "        if (!dataTable) return;\n",
              "\n",
              "        const docLinkHtml = 'Like what you see? Visit the ' +\n",
              "          '<a target=\"_blank\" href=https://colab.research.google.com/notebooks/data_table.ipynb>data table notebook</a>'\n",
              "          + ' to learn more about interactive tables.';\n",
              "        element.innerHTML = '';\n",
              "        dataTable['output_type'] = 'display_data';\n",
              "        await google.colab.output.renderOutput(dataTable, element);\n",
              "        const docLink = document.createElement('div');\n",
              "        docLink.innerHTML = docLinkHtml;\n",
              "        element.appendChild(docLink);\n",
              "      }\n",
              "    </script>\n",
              "  </div>\n",
              "\n",
              "\n",
              "<div id=\"df-c1f8bcea-6854-448f-9c3c-f46b35e3a22c\">\n",
              "  <button class=\"colab-df-quickchart\" onclick=\"quickchart('df-c1f8bcea-6854-448f-9c3c-f46b35e3a22c')\"\n",
              "            title=\"Suggest charts\"\n",
              "            style=\"display:none;\">\n",
              "\n",
              "<svg xmlns=\"http://www.w3.org/2000/svg\" height=\"24px\"viewBox=\"0 0 24 24\"\n",
              "     width=\"24px\">\n",
              "    <g>\n",
              "        <path d=\"M19 3H5c-1.1 0-2 .9-2 2v14c0 1.1.9 2 2 2h14c1.1 0 2-.9 2-2V5c0-1.1-.9-2-2-2zM9 17H7v-7h2v7zm4 0h-2V7h2v10zm4 0h-2v-4h2v4z\"/>\n",
              "    </g>\n",
              "</svg>\n",
              "  </button>\n",
              "\n",
              "<style>\n",
              "  .colab-df-quickchart {\n",
              "      --bg-color: #E8F0FE;\n",
              "      --fill-color: #1967D2;\n",
              "      --hover-bg-color: #E2EBFA;\n",
              "      --hover-fill-color: #174EA6;\n",
              "      --disabled-fill-color: #AAA;\n",
              "      --disabled-bg-color: #DDD;\n",
              "  }\n",
              "\n",
              "  [theme=dark] .colab-df-quickchart {\n",
              "      --bg-color: #3B4455;\n",
              "      --fill-color: #D2E3FC;\n",
              "      --hover-bg-color: #434B5C;\n",
              "      --hover-fill-color: #FFFFFF;\n",
              "      --disabled-bg-color: #3B4455;\n",
              "      --disabled-fill-color: #666;\n",
              "  }\n",
              "\n",
              "  .colab-df-quickchart {\n",
              "    background-color: var(--bg-color);\n",
              "    border: none;\n",
              "    border-radius: 50%;\n",
              "    cursor: pointer;\n",
              "    display: none;\n",
              "    fill: var(--fill-color);\n",
              "    height: 32px;\n",
              "    padding: 0;\n",
              "    width: 32px;\n",
              "  }\n",
              "\n",
              "  .colab-df-quickchart:hover {\n",
              "    background-color: var(--hover-bg-color);\n",
              "    box-shadow: 0 1px 2px rgba(60, 64, 67, 0.3), 0 1px 3px 1px rgba(60, 64, 67, 0.15);\n",
              "    fill: var(--button-hover-fill-color);\n",
              "  }\n",
              "\n",
              "  .colab-df-quickchart-complete:disabled,\n",
              "  .colab-df-quickchart-complete:disabled:hover {\n",
              "    background-color: var(--disabled-bg-color);\n",
              "    fill: var(--disabled-fill-color);\n",
              "    box-shadow: none;\n",
              "  }\n",
              "\n",
              "  .colab-df-spinner {\n",
              "    border: 2px solid var(--fill-color);\n",
              "    border-color: transparent;\n",
              "    border-bottom-color: var(--fill-color);\n",
              "    animation:\n",
              "      spin 1s steps(1) infinite;\n",
              "  }\n",
              "\n",
              "  @keyframes spin {\n",
              "    0% {\n",
              "      border-color: transparent;\n",
              "      border-bottom-color: var(--fill-color);\n",
              "      border-left-color: var(--fill-color);\n",
              "    }\n",
              "    20% {\n",
              "      border-color: transparent;\n",
              "      border-left-color: var(--fill-color);\n",
              "      border-top-color: var(--fill-color);\n",
              "    }\n",
              "    30% {\n",
              "      border-color: transparent;\n",
              "      border-left-color: var(--fill-color);\n",
              "      border-top-color: var(--fill-color);\n",
              "      border-right-color: var(--fill-color);\n",
              "    }\n",
              "    40% {\n",
              "      border-color: transparent;\n",
              "      border-right-color: var(--fill-color);\n",
              "      border-top-color: var(--fill-color);\n",
              "    }\n",
              "    60% {\n",
              "      border-color: transparent;\n",
              "      border-right-color: var(--fill-color);\n",
              "    }\n",
              "    80% {\n",
              "      border-color: transparent;\n",
              "      border-right-color: var(--fill-color);\n",
              "      border-bottom-color: var(--fill-color);\n",
              "    }\n",
              "    90% {\n",
              "      border-color: transparent;\n",
              "      border-bottom-color: var(--fill-color);\n",
              "    }\n",
              "  }\n",
              "</style>\n",
              "\n",
              "  <script>\n",
              "    async function quickchart(key) {\n",
              "      const quickchartButtonEl =\n",
              "        document.querySelector('#' + key + ' button');\n",
              "      quickchartButtonEl.disabled = true;  // To prevent multiple clicks.\n",
              "      quickchartButtonEl.classList.add('colab-df-spinner');\n",
              "      try {\n",
              "        const charts = await google.colab.kernel.invokeFunction(\n",
              "            'suggestCharts', [key], {});\n",
              "      } catch (error) {\n",
              "        console.error('Error during call to suggestCharts:', error);\n",
              "      }\n",
              "      quickchartButtonEl.classList.remove('colab-df-spinner');\n",
              "      quickchartButtonEl.classList.add('colab-df-quickchart-complete');\n",
              "    }\n",
              "    (() => {\n",
              "      let quickchartButtonEl =\n",
              "        document.querySelector('#df-c1f8bcea-6854-448f-9c3c-f46b35e3a22c button');\n",
              "      quickchartButtonEl.style.display =\n",
              "        google.colab.kernel.accessAllowed ? 'block' : 'none';\n",
              "    })();\n",
              "  </script>\n",
              "</div>\n",
              "    </div>\n",
              "  </div>\n"
            ]
          },
          "metadata": {},
          "execution_count": 477
        }
      ]
    },
    {
      "cell_type": "code",
      "source": [
        "# we only keep Date and Adj Close value\n",
        "df30 = df30[['Date','Adj Close']]\n",
        "df30.columns = ['Date', 'Y30']\n",
        "# only keep Adj Close value and rename the column\n",
        "df10 = df10[['Adj Close']]\n",
        "df10.columns = ['Y10']\n",
        "# only keep Adj Close value and rename the column\n",
        "df5 = df5[['Adj Close']]\n",
        "df5.columns = ['Y5']\n",
        "# merge the data into one dataframe\n",
        "dft = pd.concat([df30, df10, df5], axis=1)\n",
        "# show head\n",
        "dft.head()"
      ],
      "metadata": {
        "colab": {
          "base_uri": "https://localhost:8080/",
          "height": 206
        },
        "id": "m1l_6l5UbPdr",
        "outputId": "39e42e43-d54a-4ff6-cf27-aa5bf1a9c477"
      },
      "execution_count": 478,
      "outputs": [
        {
          "output_type": "execute_result",
          "data": {
            "text/plain": [
              "         Date    Y30    Y10     Y5\n",
              "0  2018-10-29  3.329  3.087  2.919\n",
              "1  2018-10-30  3.356  3.110  2.939\n",
              "2  2018-10-31  3.402  3.159  2.987\n",
              "3  2018-11-01  3.387  3.144  2.968\n",
              "4  2018-11-02  3.453  3.214  3.038"
            ],
            "text/html": [
              "\n",
              "  <div id=\"df-d06f1a6e-b5dc-440a-88f8-0138a7cb1fec\" class=\"colab-df-container\">\n",
              "    <div>\n",
              "<style scoped>\n",
              "    .dataframe tbody tr th:only-of-type {\n",
              "        vertical-align: middle;\n",
              "    }\n",
              "\n",
              "    .dataframe tbody tr th {\n",
              "        vertical-align: top;\n",
              "    }\n",
              "\n",
              "    .dataframe thead th {\n",
              "        text-align: right;\n",
              "    }\n",
              "</style>\n",
              "<table border=\"1\" class=\"dataframe\">\n",
              "  <thead>\n",
              "    <tr style=\"text-align: right;\">\n",
              "      <th></th>\n",
              "      <th>Date</th>\n",
              "      <th>Y30</th>\n",
              "      <th>Y10</th>\n",
              "      <th>Y5</th>\n",
              "    </tr>\n",
              "  </thead>\n",
              "  <tbody>\n",
              "    <tr>\n",
              "      <th>0</th>\n",
              "      <td>2018-10-29</td>\n",
              "      <td>3.329</td>\n",
              "      <td>3.087</td>\n",
              "      <td>2.919</td>\n",
              "    </tr>\n",
              "    <tr>\n",
              "      <th>1</th>\n",
              "      <td>2018-10-30</td>\n",
              "      <td>3.356</td>\n",
              "      <td>3.110</td>\n",
              "      <td>2.939</td>\n",
              "    </tr>\n",
              "    <tr>\n",
              "      <th>2</th>\n",
              "      <td>2018-10-31</td>\n",
              "      <td>3.402</td>\n",
              "      <td>3.159</td>\n",
              "      <td>2.987</td>\n",
              "    </tr>\n",
              "    <tr>\n",
              "      <th>3</th>\n",
              "      <td>2018-11-01</td>\n",
              "      <td>3.387</td>\n",
              "      <td>3.144</td>\n",
              "      <td>2.968</td>\n",
              "    </tr>\n",
              "    <tr>\n",
              "      <th>4</th>\n",
              "      <td>2018-11-02</td>\n",
              "      <td>3.453</td>\n",
              "      <td>3.214</td>\n",
              "      <td>3.038</td>\n",
              "    </tr>\n",
              "  </tbody>\n",
              "</table>\n",
              "</div>\n",
              "    <div class=\"colab-df-buttons\">\n",
              "\n",
              "  <div class=\"colab-df-container\">\n",
              "    <button class=\"colab-df-convert\" onclick=\"convertToInteractive('df-d06f1a6e-b5dc-440a-88f8-0138a7cb1fec')\"\n",
              "            title=\"Convert this dataframe to an interactive table.\"\n",
              "            style=\"display:none;\">\n",
              "\n",
              "  <svg xmlns=\"http://www.w3.org/2000/svg\" height=\"24px\" viewBox=\"0 -960 960 960\">\n",
              "    <path d=\"M120-120v-720h720v720H120Zm60-500h600v-160H180v160Zm220 220h160v-160H400v160Zm0 220h160v-160H400v160ZM180-400h160v-160H180v160Zm440 0h160v-160H620v160ZM180-180h160v-160H180v160Zm440 0h160v-160H620v160Z\"/>\n",
              "  </svg>\n",
              "    </button>\n",
              "\n",
              "  <style>\n",
              "    .colab-df-container {\n",
              "      display:flex;\n",
              "      gap: 12px;\n",
              "    }\n",
              "\n",
              "    .colab-df-convert {\n",
              "      background-color: #E8F0FE;\n",
              "      border: none;\n",
              "      border-radius: 50%;\n",
              "      cursor: pointer;\n",
              "      display: none;\n",
              "      fill: #1967D2;\n",
              "      height: 32px;\n",
              "      padding: 0 0 0 0;\n",
              "      width: 32px;\n",
              "    }\n",
              "\n",
              "    .colab-df-convert:hover {\n",
              "      background-color: #E2EBFA;\n",
              "      box-shadow: 0px 1px 2px rgba(60, 64, 67, 0.3), 0px 1px 3px 1px rgba(60, 64, 67, 0.15);\n",
              "      fill: #174EA6;\n",
              "    }\n",
              "\n",
              "    .colab-df-buttons div {\n",
              "      margin-bottom: 4px;\n",
              "    }\n",
              "\n",
              "    [theme=dark] .colab-df-convert {\n",
              "      background-color: #3B4455;\n",
              "      fill: #D2E3FC;\n",
              "    }\n",
              "\n",
              "    [theme=dark] .colab-df-convert:hover {\n",
              "      background-color: #434B5C;\n",
              "      box-shadow: 0px 1px 3px 1px rgba(0, 0, 0, 0.15);\n",
              "      filter: drop-shadow(0px 1px 2px rgba(0, 0, 0, 0.3));\n",
              "      fill: #FFFFFF;\n",
              "    }\n",
              "  </style>\n",
              "\n",
              "    <script>\n",
              "      const buttonEl =\n",
              "        document.querySelector('#df-d06f1a6e-b5dc-440a-88f8-0138a7cb1fec button.colab-df-convert');\n",
              "      buttonEl.style.display =\n",
              "        google.colab.kernel.accessAllowed ? 'block' : 'none';\n",
              "\n",
              "      async function convertToInteractive(key) {\n",
              "        const element = document.querySelector('#df-d06f1a6e-b5dc-440a-88f8-0138a7cb1fec');\n",
              "        const dataTable =\n",
              "          await google.colab.kernel.invokeFunction('convertToInteractive',\n",
              "                                                    [key], {});\n",
              "        if (!dataTable) return;\n",
              "\n",
              "        const docLinkHtml = 'Like what you see? Visit the ' +\n",
              "          '<a target=\"_blank\" href=https://colab.research.google.com/notebooks/data_table.ipynb>data table notebook</a>'\n",
              "          + ' to learn more about interactive tables.';\n",
              "        element.innerHTML = '';\n",
              "        dataTable['output_type'] = 'display_data';\n",
              "        await google.colab.output.renderOutput(dataTable, element);\n",
              "        const docLink = document.createElement('div');\n",
              "        docLink.innerHTML = docLinkHtml;\n",
              "        element.appendChild(docLink);\n",
              "      }\n",
              "    </script>\n",
              "  </div>\n",
              "\n",
              "\n",
              "<div id=\"df-478d3a9a-b5aa-4652-90ce-0c181d642bc2\">\n",
              "  <button class=\"colab-df-quickchart\" onclick=\"quickchart('df-478d3a9a-b5aa-4652-90ce-0c181d642bc2')\"\n",
              "            title=\"Suggest charts\"\n",
              "            style=\"display:none;\">\n",
              "\n",
              "<svg xmlns=\"http://www.w3.org/2000/svg\" height=\"24px\"viewBox=\"0 0 24 24\"\n",
              "     width=\"24px\">\n",
              "    <g>\n",
              "        <path d=\"M19 3H5c-1.1 0-2 .9-2 2v14c0 1.1.9 2 2 2h14c1.1 0 2-.9 2-2V5c0-1.1-.9-2-2-2zM9 17H7v-7h2v7zm4 0h-2V7h2v10zm4 0h-2v-4h2v4z\"/>\n",
              "    </g>\n",
              "</svg>\n",
              "  </button>\n",
              "\n",
              "<style>\n",
              "  .colab-df-quickchart {\n",
              "      --bg-color: #E8F0FE;\n",
              "      --fill-color: #1967D2;\n",
              "      --hover-bg-color: #E2EBFA;\n",
              "      --hover-fill-color: #174EA6;\n",
              "      --disabled-fill-color: #AAA;\n",
              "      --disabled-bg-color: #DDD;\n",
              "  }\n",
              "\n",
              "  [theme=dark] .colab-df-quickchart {\n",
              "      --bg-color: #3B4455;\n",
              "      --fill-color: #D2E3FC;\n",
              "      --hover-bg-color: #434B5C;\n",
              "      --hover-fill-color: #FFFFFF;\n",
              "      --disabled-bg-color: #3B4455;\n",
              "      --disabled-fill-color: #666;\n",
              "  }\n",
              "\n",
              "  .colab-df-quickchart {\n",
              "    background-color: var(--bg-color);\n",
              "    border: none;\n",
              "    border-radius: 50%;\n",
              "    cursor: pointer;\n",
              "    display: none;\n",
              "    fill: var(--fill-color);\n",
              "    height: 32px;\n",
              "    padding: 0;\n",
              "    width: 32px;\n",
              "  }\n",
              "\n",
              "  .colab-df-quickchart:hover {\n",
              "    background-color: var(--hover-bg-color);\n",
              "    box-shadow: 0 1px 2px rgba(60, 64, 67, 0.3), 0 1px 3px 1px rgba(60, 64, 67, 0.15);\n",
              "    fill: var(--button-hover-fill-color);\n",
              "  }\n",
              "\n",
              "  .colab-df-quickchart-complete:disabled,\n",
              "  .colab-df-quickchart-complete:disabled:hover {\n",
              "    background-color: var(--disabled-bg-color);\n",
              "    fill: var(--disabled-fill-color);\n",
              "    box-shadow: none;\n",
              "  }\n",
              "\n",
              "  .colab-df-spinner {\n",
              "    border: 2px solid var(--fill-color);\n",
              "    border-color: transparent;\n",
              "    border-bottom-color: var(--fill-color);\n",
              "    animation:\n",
              "      spin 1s steps(1) infinite;\n",
              "  }\n",
              "\n",
              "  @keyframes spin {\n",
              "    0% {\n",
              "      border-color: transparent;\n",
              "      border-bottom-color: var(--fill-color);\n",
              "      border-left-color: var(--fill-color);\n",
              "    }\n",
              "    20% {\n",
              "      border-color: transparent;\n",
              "      border-left-color: var(--fill-color);\n",
              "      border-top-color: var(--fill-color);\n",
              "    }\n",
              "    30% {\n",
              "      border-color: transparent;\n",
              "      border-left-color: var(--fill-color);\n",
              "      border-top-color: var(--fill-color);\n",
              "      border-right-color: var(--fill-color);\n",
              "    }\n",
              "    40% {\n",
              "      border-color: transparent;\n",
              "      border-right-color: var(--fill-color);\n",
              "      border-top-color: var(--fill-color);\n",
              "    }\n",
              "    60% {\n",
              "      border-color: transparent;\n",
              "      border-right-color: var(--fill-color);\n",
              "    }\n",
              "    80% {\n",
              "      border-color: transparent;\n",
              "      border-right-color: var(--fill-color);\n",
              "      border-bottom-color: var(--fill-color);\n",
              "    }\n",
              "    90% {\n",
              "      border-color: transparent;\n",
              "      border-bottom-color: var(--fill-color);\n",
              "    }\n",
              "  }\n",
              "</style>\n",
              "\n",
              "  <script>\n",
              "    async function quickchart(key) {\n",
              "      const quickchartButtonEl =\n",
              "        document.querySelector('#' + key + ' button');\n",
              "      quickchartButtonEl.disabled = true;  // To prevent multiple clicks.\n",
              "      quickchartButtonEl.classList.add('colab-df-spinner');\n",
              "      try {\n",
              "        const charts = await google.colab.kernel.invokeFunction(\n",
              "            'suggestCharts', [key], {});\n",
              "      } catch (error) {\n",
              "        console.error('Error during call to suggestCharts:', error);\n",
              "      }\n",
              "      quickchartButtonEl.classList.remove('colab-df-spinner');\n",
              "      quickchartButtonEl.classList.add('colab-df-quickchart-complete');\n",
              "    }\n",
              "    (() => {\n",
              "      let quickchartButtonEl =\n",
              "        document.querySelector('#df-478d3a9a-b5aa-4652-90ce-0c181d642bc2 button');\n",
              "      quickchartButtonEl.style.display =\n",
              "        google.colab.kernel.accessAllowed ? 'block' : 'none';\n",
              "    })();\n",
              "  </script>\n",
              "</div>\n",
              "    </div>\n",
              "  </div>\n"
            ]
          },
          "metadata": {},
          "execution_count": 478
        }
      ]
    },
    {
      "cell_type": "code",
      "source": [
        "# get XBI data for last 5 years\n",
        "gdown.download(f\"https://drive.google.com/uc?id=1TlIP4mEWxys23DZ_3kej7tHN8cZ6nUzO\", output='Xbi', quiet=True)\n",
        "dfxbi = pd.read_csv('Xbi')\n",
        "# only keep Date and Adj Close\n",
        "dfxbi = dfxbi[['Date', 'Adj Close']]\n",
        "dfxbi.columns = ['Date', 'Xbi']\n",
        "# display the shape of xbi\n",
        "dfxbi.head()"
      ],
      "metadata": {
        "colab": {
          "base_uri": "https://localhost:8080/",
          "height": 206
        },
        "id": "Zlt9hOCfISls",
        "outputId": "6a19879b-ef5d-4c34-8b41-63cbf81b86ab"
      },
      "execution_count": 479,
      "outputs": [
        {
          "output_type": "execute_result",
          "data": {
            "text/plain": [
              "         Date        Xbi\n",
              "0  2018-10-29  77.714813\n",
              "1  2018-10-30  78.153656\n",
              "2  2018-10-31  78.901680\n",
              "3  2018-11-01  83.519493\n",
              "4  2018-11-02  83.738914"
            ],
            "text/html": [
              "\n",
              "  <div id=\"df-63085ccd-9fc0-42b5-9960-b3b88284f561\" class=\"colab-df-container\">\n",
              "    <div>\n",
              "<style scoped>\n",
              "    .dataframe tbody tr th:only-of-type {\n",
              "        vertical-align: middle;\n",
              "    }\n",
              "\n",
              "    .dataframe tbody tr th {\n",
              "        vertical-align: top;\n",
              "    }\n",
              "\n",
              "    .dataframe thead th {\n",
              "        text-align: right;\n",
              "    }\n",
              "</style>\n",
              "<table border=\"1\" class=\"dataframe\">\n",
              "  <thead>\n",
              "    <tr style=\"text-align: right;\">\n",
              "      <th></th>\n",
              "      <th>Date</th>\n",
              "      <th>Xbi</th>\n",
              "    </tr>\n",
              "  </thead>\n",
              "  <tbody>\n",
              "    <tr>\n",
              "      <th>0</th>\n",
              "      <td>2018-10-29</td>\n",
              "      <td>77.714813</td>\n",
              "    </tr>\n",
              "    <tr>\n",
              "      <th>1</th>\n",
              "      <td>2018-10-30</td>\n",
              "      <td>78.153656</td>\n",
              "    </tr>\n",
              "    <tr>\n",
              "      <th>2</th>\n",
              "      <td>2018-10-31</td>\n",
              "      <td>78.901680</td>\n",
              "    </tr>\n",
              "    <tr>\n",
              "      <th>3</th>\n",
              "      <td>2018-11-01</td>\n",
              "      <td>83.519493</td>\n",
              "    </tr>\n",
              "    <tr>\n",
              "      <th>4</th>\n",
              "      <td>2018-11-02</td>\n",
              "      <td>83.738914</td>\n",
              "    </tr>\n",
              "  </tbody>\n",
              "</table>\n",
              "</div>\n",
              "    <div class=\"colab-df-buttons\">\n",
              "\n",
              "  <div class=\"colab-df-container\">\n",
              "    <button class=\"colab-df-convert\" onclick=\"convertToInteractive('df-63085ccd-9fc0-42b5-9960-b3b88284f561')\"\n",
              "            title=\"Convert this dataframe to an interactive table.\"\n",
              "            style=\"display:none;\">\n",
              "\n",
              "  <svg xmlns=\"http://www.w3.org/2000/svg\" height=\"24px\" viewBox=\"0 -960 960 960\">\n",
              "    <path d=\"M120-120v-720h720v720H120Zm60-500h600v-160H180v160Zm220 220h160v-160H400v160Zm0 220h160v-160H400v160ZM180-400h160v-160H180v160Zm440 0h160v-160H620v160ZM180-180h160v-160H180v160Zm440 0h160v-160H620v160Z\"/>\n",
              "  </svg>\n",
              "    </button>\n",
              "\n",
              "  <style>\n",
              "    .colab-df-container {\n",
              "      display:flex;\n",
              "      gap: 12px;\n",
              "    }\n",
              "\n",
              "    .colab-df-convert {\n",
              "      background-color: #E8F0FE;\n",
              "      border: none;\n",
              "      border-radius: 50%;\n",
              "      cursor: pointer;\n",
              "      display: none;\n",
              "      fill: #1967D2;\n",
              "      height: 32px;\n",
              "      padding: 0 0 0 0;\n",
              "      width: 32px;\n",
              "    }\n",
              "\n",
              "    .colab-df-convert:hover {\n",
              "      background-color: #E2EBFA;\n",
              "      box-shadow: 0px 1px 2px rgba(60, 64, 67, 0.3), 0px 1px 3px 1px rgba(60, 64, 67, 0.15);\n",
              "      fill: #174EA6;\n",
              "    }\n",
              "\n",
              "    .colab-df-buttons div {\n",
              "      margin-bottom: 4px;\n",
              "    }\n",
              "\n",
              "    [theme=dark] .colab-df-convert {\n",
              "      background-color: #3B4455;\n",
              "      fill: #D2E3FC;\n",
              "    }\n",
              "\n",
              "    [theme=dark] .colab-df-convert:hover {\n",
              "      background-color: #434B5C;\n",
              "      box-shadow: 0px 1px 3px 1px rgba(0, 0, 0, 0.15);\n",
              "      filter: drop-shadow(0px 1px 2px rgba(0, 0, 0, 0.3));\n",
              "      fill: #FFFFFF;\n",
              "    }\n",
              "  </style>\n",
              "\n",
              "    <script>\n",
              "      const buttonEl =\n",
              "        document.querySelector('#df-63085ccd-9fc0-42b5-9960-b3b88284f561 button.colab-df-convert');\n",
              "      buttonEl.style.display =\n",
              "        google.colab.kernel.accessAllowed ? 'block' : 'none';\n",
              "\n",
              "      async function convertToInteractive(key) {\n",
              "        const element = document.querySelector('#df-63085ccd-9fc0-42b5-9960-b3b88284f561');\n",
              "        const dataTable =\n",
              "          await google.colab.kernel.invokeFunction('convertToInteractive',\n",
              "                                                    [key], {});\n",
              "        if (!dataTable) return;\n",
              "\n",
              "        const docLinkHtml = 'Like what you see? Visit the ' +\n",
              "          '<a target=\"_blank\" href=https://colab.research.google.com/notebooks/data_table.ipynb>data table notebook</a>'\n",
              "          + ' to learn more about interactive tables.';\n",
              "        element.innerHTML = '';\n",
              "        dataTable['output_type'] = 'display_data';\n",
              "        await google.colab.output.renderOutput(dataTable, element);\n",
              "        const docLink = document.createElement('div');\n",
              "        docLink.innerHTML = docLinkHtml;\n",
              "        element.appendChild(docLink);\n",
              "      }\n",
              "    </script>\n",
              "  </div>\n",
              "\n",
              "\n",
              "<div id=\"df-e8b131a3-81fb-4311-a0bf-7d3ec794695c\">\n",
              "  <button class=\"colab-df-quickchart\" onclick=\"quickchart('df-e8b131a3-81fb-4311-a0bf-7d3ec794695c')\"\n",
              "            title=\"Suggest charts\"\n",
              "            style=\"display:none;\">\n",
              "\n",
              "<svg xmlns=\"http://www.w3.org/2000/svg\" height=\"24px\"viewBox=\"0 0 24 24\"\n",
              "     width=\"24px\">\n",
              "    <g>\n",
              "        <path d=\"M19 3H5c-1.1 0-2 .9-2 2v14c0 1.1.9 2 2 2h14c1.1 0 2-.9 2-2V5c0-1.1-.9-2-2-2zM9 17H7v-7h2v7zm4 0h-2V7h2v10zm4 0h-2v-4h2v4z\"/>\n",
              "    </g>\n",
              "</svg>\n",
              "  </button>\n",
              "\n",
              "<style>\n",
              "  .colab-df-quickchart {\n",
              "      --bg-color: #E8F0FE;\n",
              "      --fill-color: #1967D2;\n",
              "      --hover-bg-color: #E2EBFA;\n",
              "      --hover-fill-color: #174EA6;\n",
              "      --disabled-fill-color: #AAA;\n",
              "      --disabled-bg-color: #DDD;\n",
              "  }\n",
              "\n",
              "  [theme=dark] .colab-df-quickchart {\n",
              "      --bg-color: #3B4455;\n",
              "      --fill-color: #D2E3FC;\n",
              "      --hover-bg-color: #434B5C;\n",
              "      --hover-fill-color: #FFFFFF;\n",
              "      --disabled-bg-color: #3B4455;\n",
              "      --disabled-fill-color: #666;\n",
              "  }\n",
              "\n",
              "  .colab-df-quickchart {\n",
              "    background-color: var(--bg-color);\n",
              "    border: none;\n",
              "    border-radius: 50%;\n",
              "    cursor: pointer;\n",
              "    display: none;\n",
              "    fill: var(--fill-color);\n",
              "    height: 32px;\n",
              "    padding: 0;\n",
              "    width: 32px;\n",
              "  }\n",
              "\n",
              "  .colab-df-quickchart:hover {\n",
              "    background-color: var(--hover-bg-color);\n",
              "    box-shadow: 0 1px 2px rgba(60, 64, 67, 0.3), 0 1px 3px 1px rgba(60, 64, 67, 0.15);\n",
              "    fill: var(--button-hover-fill-color);\n",
              "  }\n",
              "\n",
              "  .colab-df-quickchart-complete:disabled,\n",
              "  .colab-df-quickchart-complete:disabled:hover {\n",
              "    background-color: var(--disabled-bg-color);\n",
              "    fill: var(--disabled-fill-color);\n",
              "    box-shadow: none;\n",
              "  }\n",
              "\n",
              "  .colab-df-spinner {\n",
              "    border: 2px solid var(--fill-color);\n",
              "    border-color: transparent;\n",
              "    border-bottom-color: var(--fill-color);\n",
              "    animation:\n",
              "      spin 1s steps(1) infinite;\n",
              "  }\n",
              "\n",
              "  @keyframes spin {\n",
              "    0% {\n",
              "      border-color: transparent;\n",
              "      border-bottom-color: var(--fill-color);\n",
              "      border-left-color: var(--fill-color);\n",
              "    }\n",
              "    20% {\n",
              "      border-color: transparent;\n",
              "      border-left-color: var(--fill-color);\n",
              "      border-top-color: var(--fill-color);\n",
              "    }\n",
              "    30% {\n",
              "      border-color: transparent;\n",
              "      border-left-color: var(--fill-color);\n",
              "      border-top-color: var(--fill-color);\n",
              "      border-right-color: var(--fill-color);\n",
              "    }\n",
              "    40% {\n",
              "      border-color: transparent;\n",
              "      border-right-color: var(--fill-color);\n",
              "      border-top-color: var(--fill-color);\n",
              "    }\n",
              "    60% {\n",
              "      border-color: transparent;\n",
              "      border-right-color: var(--fill-color);\n",
              "    }\n",
              "    80% {\n",
              "      border-color: transparent;\n",
              "      border-right-color: var(--fill-color);\n",
              "      border-bottom-color: var(--fill-color);\n",
              "    }\n",
              "    90% {\n",
              "      border-color: transparent;\n",
              "      border-bottom-color: var(--fill-color);\n",
              "    }\n",
              "  }\n",
              "</style>\n",
              "\n",
              "  <script>\n",
              "    async function quickchart(key) {\n",
              "      const quickchartButtonEl =\n",
              "        document.querySelector('#' + key + ' button');\n",
              "      quickchartButtonEl.disabled = true;  // To prevent multiple clicks.\n",
              "      quickchartButtonEl.classList.add('colab-df-spinner');\n",
              "      try {\n",
              "        const charts = await google.colab.kernel.invokeFunction(\n",
              "            'suggestCharts', [key], {});\n",
              "      } catch (error) {\n",
              "        console.error('Error during call to suggestCharts:', error);\n",
              "      }\n",
              "      quickchartButtonEl.classList.remove('colab-df-spinner');\n",
              "      quickchartButtonEl.classList.add('colab-df-quickchart-complete');\n",
              "    }\n",
              "    (() => {\n",
              "      let quickchartButtonEl =\n",
              "        document.querySelector('#df-e8b131a3-81fb-4311-a0bf-7d3ec794695c button');\n",
              "      quickchartButtonEl.style.display =\n",
              "        google.colab.kernel.accessAllowed ? 'block' : 'none';\n",
              "    })();\n",
              "  </script>\n",
              "</div>\n",
              "    </div>\n",
              "  </div>\n"
            ]
          },
          "metadata": {},
          "execution_count": 479
        }
      ]
    },
    {
      "cell_type": "markdown",
      "source": [
        "dfxbi and tdf has different size, we need to align them first"
      ],
      "metadata": {
        "id": "LrLeJh0RaZdf"
      }
    },
    {
      "cell_type": "code",
      "source": [
        "# merge dft and dfxbi\n",
        "dfX = dft.merge(dfxbi, on='Date', how='inner')\n",
        "# print the shape of the dataframe\n",
        "print(dfX.shape)\n",
        "# show head of dfX\n",
        "dfX.head(5)"
      ],
      "metadata": {
        "colab": {
          "base_uri": "https://localhost:8080/",
          "height": 223
        },
        "id": "pjH4KtZCeaRp",
        "outputId": "7558cfb2-8486-4c0d-bc3f-ddc6d70d67ff"
      },
      "execution_count": 480,
      "outputs": [
        {
          "output_type": "stream",
          "name": "stdout",
          "text": [
            "(1258, 5)\n"
          ]
        },
        {
          "output_type": "execute_result",
          "data": {
            "text/plain": [
              "         Date    Y30    Y10     Y5        Xbi\n",
              "0  2018-10-29  3.329  3.087  2.919  77.714813\n",
              "1  2018-10-30  3.356  3.110  2.939  78.153656\n",
              "2  2018-10-31  3.402  3.159  2.987  78.901680\n",
              "3  2018-11-01  3.387  3.144  2.968  83.519493\n",
              "4  2018-11-02  3.453  3.214  3.038  83.738914"
            ],
            "text/html": [
              "\n",
              "  <div id=\"df-14630d22-8c91-4eaa-ba18-669b0f6917d1\" class=\"colab-df-container\">\n",
              "    <div>\n",
              "<style scoped>\n",
              "    .dataframe tbody tr th:only-of-type {\n",
              "        vertical-align: middle;\n",
              "    }\n",
              "\n",
              "    .dataframe tbody tr th {\n",
              "        vertical-align: top;\n",
              "    }\n",
              "\n",
              "    .dataframe thead th {\n",
              "        text-align: right;\n",
              "    }\n",
              "</style>\n",
              "<table border=\"1\" class=\"dataframe\">\n",
              "  <thead>\n",
              "    <tr style=\"text-align: right;\">\n",
              "      <th></th>\n",
              "      <th>Date</th>\n",
              "      <th>Y30</th>\n",
              "      <th>Y10</th>\n",
              "      <th>Y5</th>\n",
              "      <th>Xbi</th>\n",
              "    </tr>\n",
              "  </thead>\n",
              "  <tbody>\n",
              "    <tr>\n",
              "      <th>0</th>\n",
              "      <td>2018-10-29</td>\n",
              "      <td>3.329</td>\n",
              "      <td>3.087</td>\n",
              "      <td>2.919</td>\n",
              "      <td>77.714813</td>\n",
              "    </tr>\n",
              "    <tr>\n",
              "      <th>1</th>\n",
              "      <td>2018-10-30</td>\n",
              "      <td>3.356</td>\n",
              "      <td>3.110</td>\n",
              "      <td>2.939</td>\n",
              "      <td>78.153656</td>\n",
              "    </tr>\n",
              "    <tr>\n",
              "      <th>2</th>\n",
              "      <td>2018-10-31</td>\n",
              "      <td>3.402</td>\n",
              "      <td>3.159</td>\n",
              "      <td>2.987</td>\n",
              "      <td>78.901680</td>\n",
              "    </tr>\n",
              "    <tr>\n",
              "      <th>3</th>\n",
              "      <td>2018-11-01</td>\n",
              "      <td>3.387</td>\n",
              "      <td>3.144</td>\n",
              "      <td>2.968</td>\n",
              "      <td>83.519493</td>\n",
              "    </tr>\n",
              "    <tr>\n",
              "      <th>4</th>\n",
              "      <td>2018-11-02</td>\n",
              "      <td>3.453</td>\n",
              "      <td>3.214</td>\n",
              "      <td>3.038</td>\n",
              "      <td>83.738914</td>\n",
              "    </tr>\n",
              "  </tbody>\n",
              "</table>\n",
              "</div>\n",
              "    <div class=\"colab-df-buttons\">\n",
              "\n",
              "  <div class=\"colab-df-container\">\n",
              "    <button class=\"colab-df-convert\" onclick=\"convertToInteractive('df-14630d22-8c91-4eaa-ba18-669b0f6917d1')\"\n",
              "            title=\"Convert this dataframe to an interactive table.\"\n",
              "            style=\"display:none;\">\n",
              "\n",
              "  <svg xmlns=\"http://www.w3.org/2000/svg\" height=\"24px\" viewBox=\"0 -960 960 960\">\n",
              "    <path d=\"M120-120v-720h720v720H120Zm60-500h600v-160H180v160Zm220 220h160v-160H400v160Zm0 220h160v-160H400v160ZM180-400h160v-160H180v160Zm440 0h160v-160H620v160ZM180-180h160v-160H180v160Zm440 0h160v-160H620v160Z\"/>\n",
              "  </svg>\n",
              "    </button>\n",
              "\n",
              "  <style>\n",
              "    .colab-df-container {\n",
              "      display:flex;\n",
              "      gap: 12px;\n",
              "    }\n",
              "\n",
              "    .colab-df-convert {\n",
              "      background-color: #E8F0FE;\n",
              "      border: none;\n",
              "      border-radius: 50%;\n",
              "      cursor: pointer;\n",
              "      display: none;\n",
              "      fill: #1967D2;\n",
              "      height: 32px;\n",
              "      padding: 0 0 0 0;\n",
              "      width: 32px;\n",
              "    }\n",
              "\n",
              "    .colab-df-convert:hover {\n",
              "      background-color: #E2EBFA;\n",
              "      box-shadow: 0px 1px 2px rgba(60, 64, 67, 0.3), 0px 1px 3px 1px rgba(60, 64, 67, 0.15);\n",
              "      fill: #174EA6;\n",
              "    }\n",
              "\n",
              "    .colab-df-buttons div {\n",
              "      margin-bottom: 4px;\n",
              "    }\n",
              "\n",
              "    [theme=dark] .colab-df-convert {\n",
              "      background-color: #3B4455;\n",
              "      fill: #D2E3FC;\n",
              "    }\n",
              "\n",
              "    [theme=dark] .colab-df-convert:hover {\n",
              "      background-color: #434B5C;\n",
              "      box-shadow: 0px 1px 3px 1px rgba(0, 0, 0, 0.15);\n",
              "      filter: drop-shadow(0px 1px 2px rgba(0, 0, 0, 0.3));\n",
              "      fill: #FFFFFF;\n",
              "    }\n",
              "  </style>\n",
              "\n",
              "    <script>\n",
              "      const buttonEl =\n",
              "        document.querySelector('#df-14630d22-8c91-4eaa-ba18-669b0f6917d1 button.colab-df-convert');\n",
              "      buttonEl.style.display =\n",
              "        google.colab.kernel.accessAllowed ? 'block' : 'none';\n",
              "\n",
              "      async function convertToInteractive(key) {\n",
              "        const element = document.querySelector('#df-14630d22-8c91-4eaa-ba18-669b0f6917d1');\n",
              "        const dataTable =\n",
              "          await google.colab.kernel.invokeFunction('convertToInteractive',\n",
              "                                                    [key], {});\n",
              "        if (!dataTable) return;\n",
              "\n",
              "        const docLinkHtml = 'Like what you see? Visit the ' +\n",
              "          '<a target=\"_blank\" href=https://colab.research.google.com/notebooks/data_table.ipynb>data table notebook</a>'\n",
              "          + ' to learn more about interactive tables.';\n",
              "        element.innerHTML = '';\n",
              "        dataTable['output_type'] = 'display_data';\n",
              "        await google.colab.output.renderOutput(dataTable, element);\n",
              "        const docLink = document.createElement('div');\n",
              "        docLink.innerHTML = docLinkHtml;\n",
              "        element.appendChild(docLink);\n",
              "      }\n",
              "    </script>\n",
              "  </div>\n",
              "\n",
              "\n",
              "<div id=\"df-ef503f07-0291-437c-81b4-73753f335b2c\">\n",
              "  <button class=\"colab-df-quickchart\" onclick=\"quickchart('df-ef503f07-0291-437c-81b4-73753f335b2c')\"\n",
              "            title=\"Suggest charts\"\n",
              "            style=\"display:none;\">\n",
              "\n",
              "<svg xmlns=\"http://www.w3.org/2000/svg\" height=\"24px\"viewBox=\"0 0 24 24\"\n",
              "     width=\"24px\">\n",
              "    <g>\n",
              "        <path d=\"M19 3H5c-1.1 0-2 .9-2 2v14c0 1.1.9 2 2 2h14c1.1 0 2-.9 2-2V5c0-1.1-.9-2-2-2zM9 17H7v-7h2v7zm4 0h-2V7h2v10zm4 0h-2v-4h2v4z\"/>\n",
              "    </g>\n",
              "</svg>\n",
              "  </button>\n",
              "\n",
              "<style>\n",
              "  .colab-df-quickchart {\n",
              "      --bg-color: #E8F0FE;\n",
              "      --fill-color: #1967D2;\n",
              "      --hover-bg-color: #E2EBFA;\n",
              "      --hover-fill-color: #174EA6;\n",
              "      --disabled-fill-color: #AAA;\n",
              "      --disabled-bg-color: #DDD;\n",
              "  }\n",
              "\n",
              "  [theme=dark] .colab-df-quickchart {\n",
              "      --bg-color: #3B4455;\n",
              "      --fill-color: #D2E3FC;\n",
              "      --hover-bg-color: #434B5C;\n",
              "      --hover-fill-color: #FFFFFF;\n",
              "      --disabled-bg-color: #3B4455;\n",
              "      --disabled-fill-color: #666;\n",
              "  }\n",
              "\n",
              "  .colab-df-quickchart {\n",
              "    background-color: var(--bg-color);\n",
              "    border: none;\n",
              "    border-radius: 50%;\n",
              "    cursor: pointer;\n",
              "    display: none;\n",
              "    fill: var(--fill-color);\n",
              "    height: 32px;\n",
              "    padding: 0;\n",
              "    width: 32px;\n",
              "  }\n",
              "\n",
              "  .colab-df-quickchart:hover {\n",
              "    background-color: var(--hover-bg-color);\n",
              "    box-shadow: 0 1px 2px rgba(60, 64, 67, 0.3), 0 1px 3px 1px rgba(60, 64, 67, 0.15);\n",
              "    fill: var(--button-hover-fill-color);\n",
              "  }\n",
              "\n",
              "  .colab-df-quickchart-complete:disabled,\n",
              "  .colab-df-quickchart-complete:disabled:hover {\n",
              "    background-color: var(--disabled-bg-color);\n",
              "    fill: var(--disabled-fill-color);\n",
              "    box-shadow: none;\n",
              "  }\n",
              "\n",
              "  .colab-df-spinner {\n",
              "    border: 2px solid var(--fill-color);\n",
              "    border-color: transparent;\n",
              "    border-bottom-color: var(--fill-color);\n",
              "    animation:\n",
              "      spin 1s steps(1) infinite;\n",
              "  }\n",
              "\n",
              "  @keyframes spin {\n",
              "    0% {\n",
              "      border-color: transparent;\n",
              "      border-bottom-color: var(--fill-color);\n",
              "      border-left-color: var(--fill-color);\n",
              "    }\n",
              "    20% {\n",
              "      border-color: transparent;\n",
              "      border-left-color: var(--fill-color);\n",
              "      border-top-color: var(--fill-color);\n",
              "    }\n",
              "    30% {\n",
              "      border-color: transparent;\n",
              "      border-left-color: var(--fill-color);\n",
              "      border-top-color: var(--fill-color);\n",
              "      border-right-color: var(--fill-color);\n",
              "    }\n",
              "    40% {\n",
              "      border-color: transparent;\n",
              "      border-right-color: var(--fill-color);\n",
              "      border-top-color: var(--fill-color);\n",
              "    }\n",
              "    60% {\n",
              "      border-color: transparent;\n",
              "      border-right-color: var(--fill-color);\n",
              "    }\n",
              "    80% {\n",
              "      border-color: transparent;\n",
              "      border-right-color: var(--fill-color);\n",
              "      border-bottom-color: var(--fill-color);\n",
              "    }\n",
              "    90% {\n",
              "      border-color: transparent;\n",
              "      border-bottom-color: var(--fill-color);\n",
              "    }\n",
              "  }\n",
              "</style>\n",
              "\n",
              "  <script>\n",
              "    async function quickchart(key) {\n",
              "      const quickchartButtonEl =\n",
              "        document.querySelector('#' + key + ' button');\n",
              "      quickchartButtonEl.disabled = true;  // To prevent multiple clicks.\n",
              "      quickchartButtonEl.classList.add('colab-df-spinner');\n",
              "      try {\n",
              "        const charts = await google.colab.kernel.invokeFunction(\n",
              "            'suggestCharts', [key], {});\n",
              "      } catch (error) {\n",
              "        console.error('Error during call to suggestCharts:', error);\n",
              "      }\n",
              "      quickchartButtonEl.classList.remove('colab-df-spinner');\n",
              "      quickchartButtonEl.classList.add('colab-df-quickchart-complete');\n",
              "    }\n",
              "    (() => {\n",
              "      let quickchartButtonEl =\n",
              "        document.querySelector('#df-ef503f07-0291-437c-81b4-73753f335b2c button');\n",
              "      quickchartButtonEl.style.display =\n",
              "        google.colab.kernel.accessAllowed ? 'block' : 'none';\n",
              "    })();\n",
              "  </script>\n",
              "</div>\n",
              "    </div>\n",
              "  </div>\n"
            ]
          },
          "metadata": {},
          "execution_count": 480
        }
      ]
    },
    {
      "cell_type": "code",
      "source": [
        "# get the close price of each columns\n",
        "p30 = dfX['Y30'].to_numpy()\n",
        "p10 = dfX['Y10'].to_numpy()\n",
        "p5 = dfX['Y5'].to_numpy()\n",
        "pxbi = dfX['Xbi'].to_numpy()\n",
        "# create a data list\n",
        "dfs_raw = [['30 years treasury yield', p30], ['10 years treasury yield',p10], ['5 years treasury yield', p5], ['Xbi Price', pxbi]]"
      ],
      "metadata": {
        "id": "3T0PZI-jLsxh"
      },
      "execution_count": 481,
      "outputs": []
    },
    {
      "cell_type": "code",
      "source": [
        "# plot the data\n",
        "def display(data):\n",
        "    fig, ax = plt.subplots(figsize=(10, 5))\n",
        "    # plt.figure(figsize=(10, 5))\n",
        "    # Use a custom color for each of our companies\n",
        "    colors = ['b', 'c', 'r', 'g']\n",
        "    date_label = [datetime.strptime(date, '%Y-%m-%d') for date in dfX[\"Date\"].to_numpy()]\n",
        "    ax.plot(date_label, data[1], label=data[0], color=colors[dfs_raw.index(data) % len(colors)])\n",
        "\n",
        "    # Adding the labels and titles\n",
        "    ax.set_xlabel(\"Date\")\n",
        "    # set x label interval\n",
        "    ax.xaxis.set_major_locator(mdates.DayLocator(interval=len(date_label) // 5))\n",
        "    # plt.xticks(np.arange(0, len(date_label), len(date_label)//10))\n",
        "\n",
        "    ax.set_ylabel(\"Close Price\")\n",
        "    ax.set_title(f\"{data[0]}\")\n",
        "\n",
        "    # Adding the legend\n",
        "    ax.legend()\n",
        "\n",
        "    # Adding some grid lines\n",
        "    ax.grid(True, linestyle='--', alpha=0.6)\n",
        "\n",
        "    plt.show()"
      ],
      "metadata": {
        "id": "zIOWUBQ-Kqzq"
      },
      "execution_count": 482,
      "outputs": []
    },
    {
      "cell_type": "code",
      "source": [
        "for data in dfs_raw:\n",
        "  display(data)"
      ],
      "metadata": {
        "colab": {
          "base_uri": "https://localhost:8080/",
          "height": 1000
        },
        "id": "Zm9_cgtfMG3y",
        "outputId": "74f1597e-15c2-4600-fc65-3012718e4cb8"
      },
      "execution_count": 483,
      "outputs": [
        {
          "output_type": "display_data",
          "data": {
            "text/plain": [
              "<Figure size 1000x500 with 1 Axes>"
            ],
            "image/png": "[encoded data removed]"
          },
          "metadata": {}
        },
        {
          "output_type": "display_data",
          "data": {
            "text/plain": [
              "<Figure size 1000x500 with 1 Axes>"
            ],
            "image/png": "[encoded data removed]"
          },
          "metadata": {}
        },
        {
          "output_type": "display_data",
          "data": {
            "text/plain": [
              "<Figure size 1000x500 with 1 Axes>"
            ],
            "image/png": "[encoded data removed]"
          },
          "metadata": {}
        },
        {
          "output_type": "display_data",
          "data": {
            "text/plain": [
              "<Figure size 1000x500 with 1 Axes>"
            ],
            "image/png": "[encoded data removed]"
          },
          "metadata": {}
        }
      ]
    },
    {
      "cell_type": "markdown",
      "source": [
        "scaling the data"
      ],
      "metadata": {
        "id": "bX59zFZ-Ngwv"
      }
    },
    {
      "cell_type": "code",
      "source": [
        "scalers = []\n",
        "scaled_data = [ p30, p10, p5, pxbi].copy()\n",
        "for i in range(4):\n",
        "  scaler = MinMaxScaler()\n",
        "  scaled_data[i] = scaler.fit_transform(scaled_data[i].reshape(-1,1)).reshape(-1)\n",
        "  scalers.append(scaler)"
      ],
      "metadata": {
        "id": "oGF91H_FNw2G"
      },
      "execution_count": 484,
      "outputs": []
    },
    {
      "cell_type": "code",
      "source": [
        "scalers[3].n_features_in_"
      ],
      "metadata": {
        "colab": {
          "base_uri": "https://localhost:8080/"
        },
        "id": "4raloxArywwK",
        "outputId": "b59c4f8e-88c4-46c4-f0e3-ad54b1102b12"
      },
      "execution_count": 485,
      "outputs": [
        {
          "output_type": "execute_result",
          "data": {
            "text/plain": [
              "1"
            ]
          },
          "metadata": {},
          "execution_count": 485
        }
      ]
    },
    {
      "cell_type": "code",
      "source": [
        "# show scaled data of p30\n",
        "scaled_data[0]"
      ],
      "metadata": {
        "colab": {
          "base_uri": "https://localhost:8080/"
        },
        "id": "SSNExEy3O90A",
        "outputId": "1ce6c443-93a4-4922-a8cd-a33116e80638"
      },
      "execution_count": 486,
      "outputs": [
        {
          "output_type": "execute_result",
          "data": {
            "text/plain": [
              "array([0.57417187, 0.5806529 , 0.59169467, ..., 0.99735958, 0.97239558,\n",
              "       0.98079693])"
            ]
          },
          "metadata": {},
          "execution_count": 486
        }
      ]
    },
    {
      "cell_type": "code",
      "source": [
        "# define a function to merge p30, p10, p5 and pxbi into a vector of price\n",
        "def merge_price(chosen=[1,1,1,1]):\n",
        "  merged = [ scaled_data[i] for i in range(4) if chosen[i] == 1 ]\n",
        "  merged =  [[item[i] for item in merged] for i in range(len(merged[0]))]\n",
        "  return merged\n",
        "# define a function to show shape of list data\n",
        "def show_shape(data):\n",
        "  print(f'Current data has a shape of {len(data)} x {len(data[0])}')\n",
        "  print(f'First item in data is:\\n {data[0]}')\n"
      ],
      "metadata": {
        "id": "SOkCbWFaRoIv"
      },
      "execution_count": 487,
      "outputs": []
    },
    {
      "cell_type": "code",
      "source": [
        "# convert all data into 4-dimension[p30, p10, p5, xbi] vectors\n",
        "X = merge_price()\n",
        "# show shape of X\n",
        "show_shape(X)"
      ],
      "metadata": {
        "colab": {
          "base_uri": "https://localhost:8080/"
        },
        "id": "sCFV9JpmVwV5",
        "outputId": "913ff00f-ab00-46b3-8639-e7d689af404a"
      },
      "execution_count": 488,
      "outputs": [
        {
          "output_type": "stream",
          "name": "stdout",
          "text": [
            "Current data has a shape of 1258 x 4\n",
            "First item in data is:\n",
            " [0.5741718674987999, 0.5765203831588327, 0.5715484683172471, 0.1341419673689207]\n"
          ]
        }
      ]
    },
    {
      "cell_type": "code",
      "source": [
        "# y is the last column in scaled_data\n",
        "y = scaled_data[3].tolist()"
      ],
      "metadata": {
        "id": "OhWPe8zTi6qd"
      },
      "execution_count": 489,
      "outputs": []
    },
    {
      "cell_type": "code",
      "source": [
        "# use look_back days price to do the forecast\n",
        "look_back = 20\n",
        "# forecast next 2 days price\n",
        "next_days = 2"
      ],
      "metadata": {
        "id": "ZUswxHdjW_Vn"
      },
      "execution_count": 490,
      "outputs": []
    },
    {
      "cell_type": "code",
      "source": [
        "def shift_data(X, y, look_back = look_back, next_days = next_days):\n",
        "  dfy = pd.DataFrame({'next_days': y})\n",
        "  dfx = pd.DataFrame({'look_back': X})\n",
        "  # prepare input data X by doing date shift\n",
        "  # get different columns start with shifted look_back + next_days -1 to next_days days in past\n",
        "  data = [dfx.shift(i) for i in range(look_back + next_days -1, next_days -1, -1)]\n",
        "  # don't shift y as the textbook did\n",
        "  data.append(dfy)\n",
        "  # combine X and y together and drop NA rows\n",
        "  X= pd.concat(data, axis=1).dropna(axis=0)\n",
        "  # get y after drop NA rows\n",
        "  y = X.iloc[:,-1]\n",
        "  # get X after drop NA rows\n",
        "  X = X.iloc[:,:-1]\n",
        "  # return as a numpy array\n",
        "  return X.values.tolist(), y.to_numpy()"
      ],
      "metadata": {
        "id": "QUouCcOSjcvf"
      },
      "execution_count": 491,
      "outputs": []
    },
    {
      "cell_type": "code",
      "source": [
        "# shift X and align with y\n",
        "shifted_X, shifted_y = shift_data(X, y)\n",
        "# show shape of shifted_X\n",
        "show_shape(shifted_X)"
      ],
      "metadata": {
        "id": "xss4fpy1qpfE",
        "colab": {
          "base_uri": "https://localhost:8080/"
        },
        "outputId": "852ea028-4cdd-4dbe-94e0-ca49466959a1"
      },
      "execution_count": 492,
      "outputs": [
        {
          "output_type": "stream",
          "name": "stdout",
          "text": [
            "Current data has a shape of 1237 x 20\n",
            "First item in data is:\n",
            " [[0.5741718674987999, 0.5765203831588327, 0.5715484683172471, 0.1341419673689207], [0.5806529044647144, 0.581644018712408, 0.575744859420898, 0.1380909460563966], [0.5916946711473837, 0.5925595901091556, 0.5858161980696601, 0.14482212516537318], [0.5880940950552089, 0.5892180886611718, 0.5818296265211917, 0.18637604107550465], [0.6039366298607778, 0.6048117620850968, 0.5965169953839697, 0.18835052591993573], [0.5988958233317332, 0.6019157941635107, 0.5939991607217792, 0.18431182205399532], [0.5974555928948633, 0.6048117620850968, 0.5990348300461602, 0.18188854034357982], [0.5972155544887182, 0.6045889953218979, 0.6013428451531683, 0.200735705069784], [0.5976956313010082, 0.6092670973490755, 0.607427612253462, 0.19059414130669072], [0.5892942870859338, 0.5992425930051236, 0.597775912715065, 0.1598103153395941], [0.5880940950552089, 0.5985742927155268, 0.5967268149391524, 0.13180841983558322], [0.5832933269323093, 0.5894408554243706, 0.5858161980696601, 0.12839803518146653], [0.5801728276524245, 0.5838716863443973, 0.578472513638271, 0.10730698511009262], [0.5835333653384542, 0.5834261528179995, 0.5770037767519932, 0.13082131689188203], [0.5736917906865099, 0.5736244152372465, 0.5663029794376836, 0.14850183833131791], [0.5710513682189151, 0.5698373802628647, 0.5604280318925724, 0.12507744769472473], [0.5684109457513203, 0.5678324793940743, 0.5612673101133026, 0.1209487306946776], [0.5698511761881901, 0.5707284473156604, 0.5654637012169534, 0.1336933144807575], [0.5696111377820452, 0.5691690799732679, 0.563365505665128, 0.13566773633489182], [0.572011521843495, 0.5731788817108487, 0.5675618967687788, 0.15182256079726708]]\n"
          ]
        }
      ]
    },
    {
      "cell_type": "code",
      "source": [
        "def get_train_val(x,y):\n",
        "  # get data size\n",
        "  data_size = len(x)\n",
        "  # split the data into training and validation\n",
        "  split = int(data_size * 0.8)\n",
        "  Xtrain = tf.convert_to_tensor(x[:split], dtype=tf.float32)\n",
        "  ytrain = tf.convert_to_tensor(y[:split], dtype=tf.float32)\n",
        "  Xval = tf.convert_to_tensor(x[split:], dtype=tf.float32)\n",
        "  yval = tf.convert_to_tensor(y[split:], dtype=tf.float32)\n",
        "  return Xtrain, ytrain, Xval, yval"
      ],
      "metadata": {
        "id": "7NbGLLdIuTQ5"
      },
      "execution_count": 493,
      "outputs": []
    },
    {
      "cell_type": "code",
      "source": [
        "# get train and val data\n",
        "Xtrain, ytrain, Xval, yval = get_train_val(shifted_X, shifted_y)\n",
        "Xtrain.shape"
      ],
      "metadata": {
        "colab": {
          "base_uri": "https://localhost:8080/"
        },
        "id": "5O2ZSQaYNMwD",
        "outputId": "62136a2d-19e0-4342-9400-ce41c004871d"
      },
      "execution_count": 494,
      "outputs": [
        {
          "output_type": "execute_result",
          "data": {
            "text/plain": [
              "TensorShape([989, 20, 4])"
            ]
          },
          "metadata": {},
          "execution_count": 494
        }
      ]
    },
    {
      "cell_type": "markdown",
      "source": [
        "Model 1:\n",
        "Focaset the next days closing price of XBI"
      ],
      "metadata": {
        "id": "YsQgU-0E2t7O"
      }
    },
    {
      "cell_type": "code",
      "source": [
        "# a function to set random state\n",
        "def set_state(seed=66):\n",
        "  random.seed(seed)\n",
        "  np.random.seed(seed)\n",
        "  tf.random.set_seed(seed)\n",
        "# a helper function to add RNN or LSTM\n",
        "def add_rnn_lstm(model, n=64, RNN=True, return_sequences=False):\n",
        "  if RNN:\n",
        "    model.add(SimpleRNN(n, return_sequences=return_sequences))\n",
        "  else:\n",
        "    model.add(LSTM(n, return_sequences=return_sequences))"
      ],
      "metadata": {
        "id": "2cNeCtBz2ypm"
      },
      "execution_count": 495,
      "outputs": []
    },
    {
      "cell_type": "code",
      "source": [
        "# define a function to set and compile a machine learning model\n",
        "def get_model(n_of_features=4, RNN=True, look_back=look_back, n_of_rnn=2, cov_1d=False, change_mode=False, show_summary= False):\n",
        "  set_state()\n",
        "  m = Sequential()\n",
        "  # add a reshape layer\n",
        "  m.add(Reshape((look_back, n_of_features), input_shape = (look_back, n_of_features)))\n",
        "  # add Conv1D layer\n",
        "  if cov_1d:\n",
        "    m.add(Conv1D(10, 3, activation='relu'))\n",
        "\n",
        "  if n_of_rnn == 1:\n",
        "  # add a RNN or LSTM layer\n",
        "    add_rnn_lstm(m,64,RNN)\n",
        "  else:\n",
        "    # add 2 RNN or LSTM layers\n",
        "    add_rnn_lstm(m,64,RNN,True)\n",
        "    # add another RNN layer\n",
        "    add_rnn_lstm(m,32,RNN)\n",
        "\n",
        "  # add dropout layer\n",
        "  m.add(Dropout(0.25))\n",
        "\n",
        "  # # create output layer\n",
        "  m.add(Dense(1))\n",
        "\n",
        "  # change_mode=True means to predict the direction of change of the stock price\n",
        "  # otherwise predict the stock price itself\n",
        "  if change_mode:\n",
        "    m.add(Activation('sigmoid'))\n",
        "    m.compile(loss='binary_crossentropy', optimizer='adam', metrics='accuracy')\n",
        "  else:\n",
        "    m.add(Activation('linear'))\n",
        "    m.compile(loss='mean_squared_error', optimizer='adam')\n",
        "\n",
        "  if show_summary:\n",
        "    m.summary()\n",
        "  return m"
      ],
      "metadata": {
        "id": "sc0eE9rPayr9"
      },
      "execution_count": 496,
      "outputs": []
    },
    {
      "cell_type": "code",
      "source": [
        "# use all 4 price featues, 2 RNN layers, without cov_1d\n",
        "model_1 = get_model(show_summary= True)"
      ],
      "metadata": {
        "colab": {
          "base_uri": "https://localhost:8080/"
        },
        "id": "r5_PirOCdmbt",
        "outputId": "2b54cb12-ce2e-480f-c33e-eadb07634fca"
      },
      "execution_count": 497,
      "outputs": [
        {
          "output_type": "stream",
          "name": "stdout",
          "text": [
            "Model: \"sequential_97\"\n",
            "_________________________________________________________________\n",
            " Layer (type)                Output Shape              Param #   \n",
            "=================================================================\n",
            " reshape_87 (Reshape)        (None, 20, 4)             0         \n",
            "                                                                 \n",
            " simple_rnn_173 (SimpleRNN)  (None, 20, 64)            4416      \n",
            "                                                                 \n",
            " simple_rnn_174 (SimpleRNN)  (None, 32)                3104      \n",
            "                                                                 \n",
            " dropout_89 (Dropout)        (None, 32)                0         \n",
            "                                                                 \n",
            " dense_96 (Dense)            (None, 1)                 33        \n",
            "                                                                 \n",
            " activation_94 (Activation)  (None, 1)                 0         \n",
            "                                                                 \n",
            "=================================================================\n",
            "Total params: 7553 (29.50 KB)\n",
            "Trainable params: 7553 (29.50 KB)\n",
            "Non-trainable params: 0 (0.00 Byte)\n",
            "_________________________________________________________________\n"
          ]
        }
      ]
    },
    {
      "cell_type": "code",
      "source": [
        "# define a helper function\n",
        "def train_model(model, X, y, epochs = 50, batch_size = 32, verbose = 2):\n",
        "  set_state()\n",
        "  model.fit(X, y, epochs=epochs, batch_size=batch_size, verbose=verbose, validation_split=0)\n",
        "train_model(model_1, Xtrain, ytrain)"
      ],
      "metadata": {
        "id": "k8ZTyp5Z5AqM",
        "colab": {
          "base_uri": "https://localhost:8080/"
        },
        "outputId": "7cac2309-f782-42ee-87bd-b321b10fc4c2"
      },
      "execution_count": 498,
      "outputs": [
        {
          "output_type": "stream",
          "name": "stdout",
          "text": [
            "Epoch 1/50\n",
            "31/31 - 3s - loss: 0.0468 - 3s/epoch - 110ms/step\n",
            "Epoch 2/50\n",
            "31/31 - 0s - loss: 0.0137 - 303ms/epoch - 10ms/step\n",
            "Epoch 3/50\n",
            "31/31 - 0s - loss: 0.0092 - 318ms/epoch - 10ms/step\n",
            "Epoch 4/50\n",
            "31/31 - 0s - loss: 0.0095 - 314ms/epoch - 10ms/step\n",
            "Epoch 5/50\n",
            "31/31 - 0s - loss: 0.0061 - 333ms/epoch - 11ms/step\n",
            "Epoch 6/50\n",
            "31/31 - 0s - loss: 0.0058 - 336ms/epoch - 11ms/step\n",
            "Epoch 7/50\n",
            "31/31 - 0s - loss: 0.0052 - 303ms/epoch - 10ms/step\n",
            "Epoch 8/50\n",
            "31/31 - 0s - loss: 0.0044 - 308ms/epoch - 10ms/step\n",
            "Epoch 9/50\n",
            "31/31 - 0s - loss: 0.0043 - 293ms/epoch - 9ms/step\n",
            "Epoch 10/50\n",
            "31/31 - 0s - loss: 0.0054 - 306ms/epoch - 10ms/step\n",
            "Epoch 11/50\n",
            "31/31 - 0s - loss: 0.0043 - 296ms/epoch - 10ms/step\n",
            "Epoch 12/50\n",
            "31/31 - 0s - loss: 0.0044 - 303ms/epoch - 10ms/step\n",
            "Epoch 13/50\n",
            "31/31 - 0s - loss: 0.0039 - 305ms/epoch - 10ms/step\n",
            "Epoch 14/50\n",
            "31/31 - 0s - loss: 0.0036 - 301ms/epoch - 10ms/step\n",
            "Epoch 15/50\n",
            "31/31 - 0s - loss: 0.0039 - 295ms/epoch - 10ms/step\n",
            "Epoch 16/50\n",
            "31/31 - 0s - loss: 0.0038 - 315ms/epoch - 10ms/step\n",
            "Epoch 17/50\n",
            "31/31 - 0s - loss: 0.0041 - 302ms/epoch - 10ms/step\n",
            "Epoch 18/50\n",
            "31/31 - 0s - loss: 0.0035 - 308ms/epoch - 10ms/step\n",
            "Epoch 19/50\n",
            "31/31 - 0s - loss: 0.0036 - 293ms/epoch - 9ms/step\n",
            "Epoch 20/50\n",
            "31/31 - 0s - loss: 0.0035 - 312ms/epoch - 10ms/step\n",
            "Epoch 21/50\n",
            "31/31 - 0s - loss: 0.0035 - 298ms/epoch - 10ms/step\n",
            "Epoch 22/50\n",
            "31/31 - 0s - loss: 0.0036 - 300ms/epoch - 10ms/step\n",
            "Epoch 23/50\n",
            "31/31 - 0s - loss: 0.0032 - 301ms/epoch - 10ms/step\n",
            "Epoch 24/50\n",
            "31/31 - 0s - loss: 0.0032 - 297ms/epoch - 10ms/step\n",
            "Epoch 25/50\n",
            "31/31 - 0s - loss: 0.0035 - 299ms/epoch - 10ms/step\n",
            "Epoch 26/50\n",
            "31/31 - 0s - loss: 0.0029 - 302ms/epoch - 10ms/step\n",
            "Epoch 27/50\n",
            "31/31 - 0s - loss: 0.0031 - 302ms/epoch - 10ms/step\n",
            "Epoch 28/50\n",
            "31/31 - 0s - loss: 0.0026 - 301ms/epoch - 10ms/step\n",
            "Epoch 29/50\n",
            "31/31 - 0s - loss: 0.0027 - 289ms/epoch - 9ms/step\n",
            "Epoch 30/50\n",
            "31/31 - 0s - loss: 0.0026 - 308ms/epoch - 10ms/step\n",
            "Epoch 31/50\n",
            "31/31 - 0s - loss: 0.0038 - 296ms/epoch - 10ms/step\n",
            "Epoch 32/50\n",
            "31/31 - 0s - loss: 0.0032 - 291ms/epoch - 9ms/step\n",
            "Epoch 33/50\n",
            "31/31 - 0s - loss: 0.0025 - 333ms/epoch - 11ms/step\n",
            "Epoch 34/50\n",
            "31/31 - 0s - loss: 0.0025 - 482ms/epoch - 16ms/step\n",
            "Epoch 35/50\n",
            "31/31 - 0s - loss: 0.0026 - 485ms/epoch - 16ms/step\n",
            "Epoch 36/50\n",
            "31/31 - 0s - loss: 0.0023 - 489ms/epoch - 16ms/step\n",
            "Epoch 37/50\n",
            "31/31 - 0s - loss: 0.0026 - 471ms/epoch - 15ms/step\n",
            "Epoch 38/50\n",
            "31/31 - 0s - loss: 0.0025 - 484ms/epoch - 16ms/step\n",
            "Epoch 39/50\n",
            "31/31 - 0s - loss: 0.0025 - 497ms/epoch - 16ms/step\n",
            "Epoch 40/50\n",
            "31/31 - 0s - loss: 0.0028 - 473ms/epoch - 15ms/step\n",
            "Epoch 41/50\n",
            "31/31 - 0s - loss: 0.0026 - 453ms/epoch - 15ms/step\n",
            "Epoch 42/50\n",
            "31/31 - 0s - loss: 0.0022 - 500ms/epoch - 16ms/step\n",
            "Epoch 43/50\n",
            "31/31 - 0s - loss: 0.0027 - 387ms/epoch - 12ms/step\n",
            "Epoch 44/50\n",
            "31/31 - 0s - loss: 0.0025 - 322ms/epoch - 10ms/step\n",
            "Epoch 45/50\n",
            "31/31 - 0s - loss: 0.0023 - 306ms/epoch - 10ms/step\n",
            "Epoch 46/50\n",
            "31/31 - 0s - loss: 0.0024 - 307ms/epoch - 10ms/step\n",
            "Epoch 47/50\n",
            "31/31 - 0s - loss: 0.0025 - 296ms/epoch - 10ms/step\n",
            "Epoch 48/50\n",
            "31/31 - 0s - loss: 0.0021 - 313ms/epoch - 10ms/step\n",
            "Epoch 49/50\n",
            "31/31 - 0s - loss: 0.0026 - 311ms/epoch - 10ms/step\n",
            "Epoch 50/50\n",
            "31/31 - 0s - loss: 0.0022 - 312ms/epoch - 10ms/step\n"
          ]
        }
      ]
    },
    {
      "cell_type": "code",
      "source": [
        "# create a evaluation function\n",
        "import math\n",
        "def get_model_perf(model, X, Y):\n",
        "  score = math.sqrt(model.evaluate(X, Y, verbose=0))\n",
        "  print('RMSE: %.3f\\n' % (score))\n",
        "  return score\n",
        "\n",
        "def predict(model, X, scaler=None):\n",
        "  if scaler == None:\n",
        "    return model.predict(X)\n",
        "  return scaler.inverse_transform(model.predict(X))\n",
        "\n",
        "def relative_error(pred, real):\n",
        "  if len(pred) != len(real):\n",
        "    print(\"Error: Length of pred and real is not the same\")\n",
        "    return None\n",
        "  err_rate = np.array( [abs(pred[i]/real[i] -1) for i in range(len(pred))]).mean()\n",
        "  print(f\"The relative error rate is {err_rate*100:.1f}%\")\n",
        "  return err_rate\n"
      ],
      "metadata": {
        "id": "QDVglwvH-C_H"
      },
      "execution_count": 499,
      "outputs": []
    },
    {
      "cell_type": "code",
      "source": [
        "# show RMSE value on validation data\n",
        "RMSE = get_model_perf(model_1, Xval, yval)"
      ],
      "metadata": {
        "colab": {
          "base_uri": "https://localhost:8080/"
        },
        "id": "6nb4i8NW-ZyC",
        "outputId": "f9dc4b19-a05b-4ac1-e785-56871b9f1dcd"
      },
      "execution_count": 500,
      "outputs": [
        {
          "output_type": "stream",
          "name": "stdout",
          "text": [
            "RMSE: 0.023\n",
            "\n"
          ]
        }
      ]
    },
    {
      "cell_type": "code",
      "source": [
        "def xbi_relative_error(model):\n",
        "  # get the scaler for Xbi\n",
        "  scaler = scalers[3]\n",
        "  # get the predic price for the validation data\n",
        "  pred_xbi = predict(model, Xval, scaler).reshape(-1)\n",
        "  # get the real price of the validation data\n",
        "  val_xbi = scaler.inverse_transform(np.array(yval).reshape(1,-1)).reshape(-1)\n",
        "  # get the relative error rate for prediction\n",
        "  relative_err = relative_error(pred_xbi, val_xbi)\n",
        "  return pred_xbi, val_xbi"
      ],
      "metadata": {
        "id": "FgAbCFW_By7d"
      },
      "execution_count": 501,
      "outputs": []
    },
    {
      "cell_type": "code",
      "source": [
        "pred_xbi, val_xbi = xbi_relative_error(model_1)"
      ],
      "metadata": {
        "colab": {
          "base_uri": "https://localhost:8080/"
        },
        "id": "TPTz6CVRsTzs",
        "outputId": "5f5d7534-5184-4105-c2e5-039ac5933e42"
      },
      "execution_count": 502,
      "outputs": [
        {
          "output_type": "stream",
          "name": "stdout",
          "text": [
            "8/8 [==============================] - 0s 5ms/step\n",
            "The relative error rate is 2.6%\n"
          ]
        }
      ]
    },
    {
      "cell_type": "code",
      "source": [
        "def plot_pred(pred, real, start_pos=0, end_pos=-1):\n",
        "    if len(pred) > len(real):\n",
        "      print(\"Error: length of pred is larger than the length of real\")\n",
        "      return\n",
        "    # if end_pos is -1, set to end_pos to the end of the data\n",
        "    end_pos = end_pos if end_pos != -1 else len(real)\n",
        "    # set data in real to plot\n",
        "    real_to_plot = real[start_pos : end_pos]\n",
        "    # set prediction data to plot\n",
        "    pred_to_plot = pred[start_pos : end_pos]\n",
        "    plt.plot(real_to_plot)\n",
        "    plt.plot(pred_to_plot, \"--\")"
      ],
      "metadata": {
        "id": "l0b57yRyF9MI"
      },
      "execution_count": 503,
      "outputs": []
    },
    {
      "cell_type": "code",
      "source": [
        "# plot the prediction vs the real closing price\n",
        "plot_pred(pred_xbi, val_xbi)"
      ],
      "metadata": {
        "colab": {
          "base_uri": "https://localhost:8080/",
          "height": 430
        },
        "id": "_FUDZKD5HWhy",
        "outputId": "91148eda-8bd5-4888-d71c-926cc3f7cde7"
      },
      "execution_count": 504,
      "outputs": [
        {
          "output_type": "display_data",
          "data": {
            "text/plain": [
              "<Figure size 640x480 with 1 Axes>"
            ],
            "image/png": "[encoded data removed]"
          },
          "metadata": {}
        }
      ]
    },
    {
      "cell_type": "markdown",
      "source": [
        "\n",
        "The prediction for the closing price over the next 3 days is not very accurate. On average, there's about a 2.6% difference from the actual value, which is less than ideal. However, we shall see if using treasury data is helpful for the prediction. So we can try only using the XBI's own history data to do the prediction.\n",
        "\n"
      ],
      "metadata": {
        "id": "_fn9jeyr3bkG"
      }
    },
    {
      "cell_type": "code",
      "source": [
        "def test_model(chosen=[0,0,0,1], n_of_features=1, look_back=20, next_days=2, RNN=True, cov_1d=False, show_summary=True):\n",
        "  look_back = look_back\n",
        "  next_days = next_days\n",
        "  # only choose xbi price as the feature\n",
        "  X_xbi = merge_price(chosen)\n",
        "  # shift data\n",
        "  shifted_X, shifted_y = shift_data(X_xbi, y)\n",
        "  # get train val data\n",
        "  Xtrain, ytrain, Xval, yval = get_train_val(shifted_X, shifted_y)\n",
        "  # get the model\n",
        "  model = get_model(n_of_features=n_of_features, RNN = RNN, cov_1d=cov_1d, show_summary=show_summary)\n",
        "  # train model\n",
        "  train_model(model, Xtrain, ytrain, verbose = 0)\n",
        "  # evaluate the model\n",
        "  RMSE = get_model_perf(model, Xval, yval)\n",
        "  return Xval, model, RMSE"
      ],
      "metadata": {
        "id": "kkDTrsCYmEBj"
      },
      "execution_count": 505,
      "outputs": []
    },
    {
      "cell_type": "code",
      "source": [
        "Xval, m1, RMSE1 = test_model()"
      ],
      "metadata": {
        "colab": {
          "base_uri": "https://localhost:8080/"
        },
        "id": "e4etS14cqFpj",
        "outputId": "3ff4f670-f2a5-4273-c6a5-6393f5dee1e8"
      },
      "execution_count": 506,
      "outputs": [
        {
          "output_type": "stream",
          "name": "stdout",
          "text": [
            "Model: \"sequential_98\"\n",
            "_________________________________________________________________\n",
            " Layer (type)                Output Shape              Param #   \n",
            "=================================================================\n",
            " reshape_88 (Reshape)        (None, 20, 1)             0         \n",
            "                                                                 \n",
            " simple_rnn_175 (SimpleRNN)  (None, 20, 64)            4224      \n",
            "                                                                 \n",
            " simple_rnn_176 (SimpleRNN)  (None, 32)                3104      \n",
            "                                                                 \n",
            " dropout_90 (Dropout)        (None, 32)                0         \n",
            "                                                                 \n",
            " dense_97 (Dense)            (None, 1)                 33        \n",
            "                                                                 \n",
            " activation_95 (Activation)  (None, 1)                 0         \n",
            "                                                                 \n",
            "=================================================================\n",
            "Total params: 7361 (28.75 KB)\n",
            "Trainable params: 7361 (28.75 KB)\n",
            "Non-trainable params: 0 (0.00 Byte)\n",
            "_________________________________________________________________\n",
            "RMSE: 0.018\n",
            "\n"
          ]
        }
      ]
    },
    {
      "cell_type": "code",
      "source": [
        "pred_xbi, val_xbi = xbi_relative_error(m1)"
      ],
      "metadata": {
        "colab": {
          "base_uri": "https://localhost:8080/"
        },
        "id": "u0trVYos08d6",
        "outputId": "f1c8b65d-a6f4-47e0-d56b-a14f1829cc0c"
      },
      "execution_count": 507,
      "outputs": [
        {
          "output_type": "stream",
          "name": "stdout",
          "text": [
            "8/8 [==============================] - 0s 5ms/step\n",
            "The relative error rate is 1.9%\n"
          ]
        }
      ]
    },
    {
      "cell_type": "markdown",
      "source": [
        "It seems only use history XBI price to predict future price are more arrurate then combing with Treasury price (p30). We will see what is the result only using one Treasury price."
      ],
      "metadata": {
        "id": "6vPRt_f1uLCY"
      }
    },
    {
      "cell_type": "code",
      "source": [
        "_, m2, RMSE2 = test_model(chosen=[1,0,0,1], n_of_features=2)"
      ],
      "metadata": {
        "colab": {
          "base_uri": "https://localhost:8080/"
        },
        "id": "dXTCYDfSuy3M",
        "outputId": "7e09358e-d952-4dba-d315-f0ac6d4db255"
      },
      "execution_count": 508,
      "outputs": [
        {
          "output_type": "stream",
          "name": "stdout",
          "text": [
            "Model: \"sequential_99\"\n",
            "_________________________________________________________________\n",
            " Layer (type)                Output Shape              Param #   \n",
            "=================================================================\n",
            " reshape_89 (Reshape)        (None, 20, 2)             0         \n",
            "                                                                 \n",
            " simple_rnn_177 (SimpleRNN)  (None, 20, 64)            4288      \n",
            "                                                                 \n",
            " simple_rnn_178 (SimpleRNN)  (None, 32)                3104      \n",
            "                                                                 \n",
            " dropout_91 (Dropout)        (None, 32)                0         \n",
            "                                                                 \n",
            " dense_98 (Dense)            (None, 1)                 33        \n",
            "                                                                 \n",
            " activation_96 (Activation)  (None, 1)                 0         \n",
            "                                                                 \n",
            "=================================================================\n",
            "Total params: 7425 (29.00 KB)\n",
            "Trainable params: 7425 (29.00 KB)\n",
            "Non-trainable params: 0 (0.00 Byte)\n",
            "_________________________________________________________________\n",
            "RMSE: 0.028\n",
            "\n"
          ]
        }
      ]
    },
    {
      "cell_type": "markdown",
      "source": [
        "It got a worse result when using p30 combined with XBI price. We will try to use LSTM to replace the RNN model to see the result."
      ],
      "metadata": {
        "id": "QHOiMop4uoOJ"
      }
    },
    {
      "cell_type": "code",
      "source": [
        "Xval, m3, RMSE3 = test_model(RNN=False)"
      ],
      "metadata": {
        "colab": {
          "base_uri": "https://localhost:8080/"
        },
        "id": "csb2XOSWBVWd",
        "outputId": "e2e06ee6-b08b-487b-ea0b-a487a9fcb757"
      },
      "execution_count": 509,
      "outputs": [
        {
          "output_type": "stream",
          "name": "stdout",
          "text": [
            "Model: \"sequential_100\"\n",
            "_________________________________________________________________\n",
            " Layer (type)                Output Shape              Param #   \n",
            "=================================================================\n",
            " reshape_90 (Reshape)        (None, 20, 1)             0         \n",
            "                                                                 \n",
            " lstm_2 (LSTM)               (None, 20, 64)            16896     \n",
            "                                                                 \n",
            " lstm_3 (LSTM)               (None, 32)                12416     \n",
            "                                                                 \n",
            " dropout_92 (Dropout)        (None, 32)                0         \n",
            "                                                                 \n",
            " dense_99 (Dense)            (None, 1)                 33        \n",
            "                                                                 \n",
            " activation_97 (Activation)  (None, 1)                 0         \n",
            "                                                                 \n",
            "=================================================================\n",
            "Total params: 29345 (114.63 KB)\n",
            "Trainable params: 29345 (114.63 KB)\n",
            "Non-trainable params: 0 (0.00 Byte)\n",
            "_________________________________________________________________\n",
            "RMSE: 0.019\n",
            "\n"
          ]
        }
      ]
    },
    {
      "cell_type": "code",
      "source": [
        "Xval, m4, RMSE4 = test_model(cov_1d=True)"
      ],
      "metadata": {
        "colab": {
          "base_uri": "https://localhost:8080/"
        },
        "id": "rFZtLJgisy6w",
        "outputId": "ed56fca0-4df6-4675-b4e8-5bf484a27436"
      },
      "execution_count": 510,
      "outputs": [
        {
          "output_type": "stream",
          "name": "stdout",
          "text": [
            "Model: \"sequential_101\"\n",
            "_________________________________________________________________\n",
            " Layer (type)                Output Shape              Param #   \n",
            "=================================================================\n",
            " reshape_91 (Reshape)        (None, 20, 1)             0         \n",
            "                                                                 \n",
            " conv1d_11 (Conv1D)          (None, 18, 10)            40        \n",
            "                                                                 \n",
            " simple_rnn_179 (SimpleRNN)  (None, 18, 64)            4800      \n",
            "                                                                 \n",
            " simple_rnn_180 (SimpleRNN)  (None, 32)                3104      \n",
            "                                                                 \n",
            " dropout_93 (Dropout)        (None, 32)                0         \n",
            "                                                                 \n",
            " dense_100 (Dense)           (None, 1)                 33        \n",
            "                                                                 \n",
            " activation_98 (Activation)  (None, 1)                 0         \n",
            "                                                                 \n",
            "=================================================================\n",
            "Total params: 7977 (31.16 KB)\n",
            "Trainable params: 7977 (31.16 KB)\n",
            "Non-trainable params: 0 (0.00 Byte)\n",
            "_________________________________________________________________\n",
            "RMSE: 0.019\n",
            "\n"
          ]
        }
      ]
    },
    {
      "cell_type": "markdown",
      "source": [
        "The LSTM model and the model with Cov_1D appear to exhibit slightly inferior performance compared to the RNN model without Cov_1D. Now, we can assess the potential for a satisfactory return based on our best prediction model so far. Let's consider a scenario where we predict a price two days later that exceeds today's price. If the actual price does increase in the next two days, it indicates that the prediction could result in a return. To evaluate the effectiveness of this model in generating returns based on predictions, we can examine the percentage of accurate predictions."
      ],
      "metadata": {
        "id": "_-_0raA_4Y8j"
      }
    },
    {
      "cell_type": "code",
      "source": [
        "def pred_change_accuracy(pred, actual, next_days):\n",
        "  result = np.array([1 if (pred[i] >= actual[i-next_days])  == (actual[i] >= actual[i-next_days]) else 0 for i in range(next_days, len(pred))])\n",
        "  accuracy = result.mean()\n",
        "  print(f'Accuracy in predict the price change is {accuracy*100:.1f}%')\n",
        "  return result, accuracy"
      ],
      "metadata": {
        "id": "PiIvf4ZA5fHi"
      },
      "execution_count": 513,
      "outputs": []
    },
    {
      "cell_type": "code",
      "source": [
        "result, accuracy = pred_change_accuracy(pred_xbi, val_xbi, 2)"
      ],
      "metadata": {
        "colab": {
          "base_uri": "https://localhost:8080/"
        },
        "id": "8QrWyaUB6xKa",
        "outputId": "30c79617-3289-48ae-8c22-20684a22eab5"
      },
      "execution_count": 514,
      "outputs": [
        {
          "output_type": "stream",
          "name": "stdout",
          "text": [
            "Accuracy in predict the price change is 45.5%\n"
          ]
        }
      ]
    },
    {
      "cell_type": "markdown",
      "source": [
        "\n",
        "Despite employing the best model we have so far, the accuracy of correctly predicting price changes remains below 50%. This implies that relying on this model alone may not yield a satisfactory return. Hence, we aim to explore an alternative approach to determine whether we can identify a model that might yield a satisfactory return."
      ],
      "metadata": {
        "id": "6fKg8e95AldN"
      }
    },
    {
      "cell_type": "markdown",
      "source": [
        "# Model 2\n",
        "Now, we will examine the possibility of constructing a model to forecast the direction of future price changes. To accomplish this, it is necessary to first adjust the data labels for both training and validation sets. We still combine the Treasury price ant XBI price as the input features. Because if we find a workable model, it is easy to change to only using XBI's past price as the input feature."
      ],
      "metadata": {
        "id": "uiQlxVHdNtxk"
      }
    },
    {
      "cell_type": "code",
      "source": [
        "# use p30, p10, p5, pxbi 4 featues\n",
        "X = merge_price([1,1,1,1])\n",
        "show_shape(X)"
      ],
      "metadata": {
        "colab": {
          "base_uri": "https://localhost:8080/"
        },
        "id": "8_TbUf0Odi0l",
        "outputId": "1ba3e902-9e9a-4047-c2ec-7151ca4a971d"
      },
      "execution_count": 515,
      "outputs": [
        {
          "output_type": "stream",
          "name": "stdout",
          "text": [
            "Current data has a shape of 1258 x 4\n",
            "First item in data is:\n",
            " [0.5741718674987999, 0.5765203831588327, 0.5715484683172471, 0.1341419673689207]\n"
          ]
        }
      ]
    },
    {
      "cell_type": "code",
      "source": [
        "# set look_back = 20, next_days = 3\n",
        "look_back = 20\n",
        "next_days = 3\n",
        "# get shifted_X and shifted_y\n",
        "shifted_X, shifted_y = shift_data(X, y, look_back, next_days)\n",
        "# display shape of shifted_y\n",
        "shifted_y.shape"
      ],
      "metadata": {
        "colab": {
          "base_uri": "https://localhost:8080/"
        },
        "id": "Wu-cufoSLcUs",
        "outputId": "682edb6a-c1bf-4d0c-c58f-a2622daa10cb"
      },
      "execution_count": 516,
      "outputs": [
        {
          "output_type": "execute_result",
          "data": {
            "text/plain": [
              "(1236,)"
            ]
          },
          "metadata": {},
          "execution_count": 516
        }
      ]
    },
    {
      "cell_type": "code",
      "source": [
        "# a helper function to get the price change value\n",
        "def get_diff(shifted_y, y, look_back):\n",
        "  new_y = y[next_days:]\n",
        "  # new_y[i] = y[i + next_days], and get their change into diff_y\n",
        "  diff_y = [ 1 if shifted_y[i] > y[ i + look_back-1] else 0 for i in range(len(shifted_y))]\n",
        "  return diff_y"
      ],
      "metadata": {
        "id": "pAmYXeApMMA0"
      },
      "execution_count": 517,
      "outputs": []
    },
    {
      "cell_type": "code",
      "source": [
        "# new label, when actual price increase set to 1 otherwise set to 0\n",
        "new_y = get_diff(shifted_y, y, look_back)\n",
        "# show first 5 item in new_y\n",
        "new_y[:5]"
      ],
      "metadata": {
        "id": "ZdkHDBqxgLFC",
        "colab": {
          "base_uri": "https://localhost:8080/"
        },
        "outputId": "387e3ac9-b10c-4142-d709-0aacf54ddf6a"
      },
      "execution_count": 518,
      "outputs": [
        {
          "output_type": "execute_result",
          "data": {
            "text/plain": [
              "[1, 1, 1, 1, 0]"
            ]
          },
          "metadata": {},
          "execution_count": 518
        }
      ]
    },
    {
      "cell_type": "code",
      "source": [
        "# convert train and validation label into tensor\n",
        "Xtrain, ytrain, Xval, yval = get_train_val(shifted_X, new_y)\n",
        "# show shape of Xtrain\n",
        "Xtrain.shape"
      ],
      "metadata": {
        "id": "fftrKuAwhN59",
        "colab": {
          "base_uri": "https://localhost:8080/"
        },
        "outputId": "c1d4c25f-99e0-4b12-877d-0ae66ec066c3"
      },
      "execution_count": 519,
      "outputs": [
        {
          "output_type": "execute_result",
          "data": {
            "text/plain": [
              "TensorShape([988, 20, 4])"
            ]
          },
          "metadata": {},
          "execution_count": 519
        }
      ]
    },
    {
      "cell_type": "code",
      "source": [
        "# create RNN model\n",
        "change_model = get_model(change_mode=True)"
      ],
      "metadata": {
        "id": "hfna5PTFPkfr"
      },
      "execution_count": 520,
      "outputs": []
    },
    {
      "cell_type": "code",
      "source": [
        "# train model\n",
        "train_model(change_model, Xtrain, ytrain, epochs=100, verbose=0)"
      ],
      "metadata": {
        "id": "IxZ37FfIkr_r"
      },
      "execution_count": 521,
      "outputs": []
    },
    {
      "cell_type": "code",
      "source": [
        "# get the prediction\n",
        "diff_pred = predict(change_model, Xval)"
      ],
      "metadata": {
        "colab": {
          "base_uri": "https://localhost:8080/"
        },
        "id": "wb_RLBEVl7v-",
        "outputId": "252efc19-0936-4cb3-ef2b-5c1b9772f228"
      },
      "execution_count": 522,
      "outputs": [
        {
          "output_type": "stream",
          "name": "stdout",
          "text": [
            "8/8 [==============================] - 0s 4ms/step\n"
          ]
        }
      ]
    },
    {
      "cell_type": "markdown",
      "source": [
        "\n",
        "Here, we can employ a \"safe\" prediction model. The output layer utilizes a sigmoid activation function, where a larger output value indicates a higher likelihood of the prediction being equal to \"1\". By selecting a threshold, we can predict the label as \"1\" only when the value exceeds the threshold. This approach is expected to yield a more accurate prediction (We're not focusing on how accurately we predict price decreases for now.)"
      ],
      "metadata": {
        "id": "TQpcfBzRyUV0"
      }
    },
    {
      "cell_type": "code",
      "source": [
        "# set 0.8 as the threshold for safe prediction\n",
        "limit = 0.8\n",
        "# get safe prediction\n",
        "safe_pred = np.array([ 1 if val > limit else 0 for val in diff_pred])\n",
        "# get how many safe prediction we made\n",
        "total_predictions = safe_pred.sum()\n",
        "# show safe predict numbers\n",
        "print(f'Total {total_predictions} safe predictions made in the validation data.')"
      ],
      "metadata": {
        "colab": {
          "base_uri": "https://localhost:8080/"
        },
        "id": "nGC1dZzimPFg",
        "outputId": "95f3ac50-23c0-4287-d4cd-35f9e066748d"
      },
      "execution_count": 523,
      "outputs": [
        {
          "output_type": "stream",
          "name": "stdout",
          "text": [
            "Total 23 safe predictions made in the validation data.\n"
          ]
        }
      ]
    },
    {
      "cell_type": "code",
      "source": [
        "# get total right predictions\n",
        "right_pred = np.array([1 if (safe_pred[i] == 1 and new_y[i]==1) else 0 for i in range(len(diff_pred))])\n",
        "right_number = right_pred.sum()\n",
        "print(f'Total {right_number} predictions are correct in safe predictions')"
      ],
      "metadata": {
        "colab": {
          "base_uri": "https://localhost:8080/"
        },
        "id": "2SC_-PqDnfO1",
        "outputId": "f38a623f-82b2-4dd2-c8c5-0cbbe7341bb3"
      },
      "execution_count": 524,
      "outputs": [
        {
          "output_type": "stream",
          "name": "stdout",
          "text": [
            "Total 19 predictions are correct in safe predictions\n"
          ]
        }
      ]
    },
    {
      "cell_type": "code",
      "source": [
        "# we got 19 right prediction out of 23, the forecast accuracy is\n",
        "print(f'The accuracy in safe predictions is {right_number/total_predictions*100:.1f}%')\n"
      ],
      "metadata": {
        "colab": {
          "base_uri": "https://localhost:8080/"
        },
        "id": "G6UYGbC6nttH",
        "outputId": "ca6ffa64-0434-4b3c-a354-da91dcd0ccf9"
      },
      "execution_count": 525,
      "outputs": [
        {
          "output_type": "stream",
          "name": "stdout",
          "text": [
            "The accuracy in safe predictions is 82.6%\n"
          ]
        }
      ]
    },
    {
      "cell_type": "markdown",
      "source": [
        "This is not a bad result and we can see if we change the threshold, the forecast accuracy changed reasonably."
      ],
      "metadata": {
        "id": "dJzE-P1u9JkB"
      }
    },
    {
      "cell_type": "code",
      "source": [
        "# define a function to report accuracy based on threshold value\n",
        "def check_accuracy_on_threshold(threshold, pred, y):\n",
        "  safe_pred = np.array([ 1 if val > threshold else 0 for val in pred])\n",
        "  n_of_safe_pred = safe_pred.sum()\n",
        "  right_forecast = np.array([1 if (safe_pred[i] == 1 and y[i]==1) else 0 for i in range(len(pred))])\n",
        "  accuracy = right_forecast.sum() / (safe_pred.sum() + 0.0000001)\n",
        "  print(f'The forecast accuracy on threshold={threshold} is {accuracy*100:.1f}%, made {n_of_safe_pred} safe predictions')\n",
        "  return accuracy"
      ],
      "metadata": {
        "id": "OV4YCKnqtHOA"
      },
      "execution_count": 526,
      "outputs": []
    },
    {
      "cell_type": "code",
      "source": [
        "# show accuracy on different threshold values\n",
        "thresholds = [0.0, 0.1, 0.2, 0.3, 0.4,  0.5, 0.6, 0.7, 0.8]\n",
        "\n",
        "for t in thresholds:\n",
        "  check_accuracy_on_threshold(t, diff_pred, new_y)"
      ],
      "metadata": {
        "colab": {
          "base_uri": "https://localhost:8080/"
        },
        "id": "0RQlz4pM-2Xf",
        "outputId": "d63f91ff-1c37-480c-bec8-1a5792865f76"
      },
      "execution_count": 527,
      "outputs": [
        {
          "output_type": "stream",
          "name": "stdout",
          "text": [
            "The forecast accuracy on threshold=0.0 is 55.6%, made 248 safe predictions\n",
            "The forecast accuracy on threshold=0.1 is 55.6%, made 248 safe predictions\n",
            "The forecast accuracy on threshold=0.2 is 55.6%, made 248 safe predictions\n",
            "The forecast accuracy on threshold=0.3 is 55.6%, made 248 safe predictions\n",
            "The forecast accuracy on threshold=0.4 is 55.6%, made 248 safe predictions\n",
            "The forecast accuracy on threshold=0.5 is 55.5%, made 236 safe predictions\n",
            "The forecast accuracy on threshold=0.6 is 58.2%, made 134 safe predictions\n",
            "The forecast accuracy on threshold=0.7 is 62.9%, made 62 safe predictions\n",
            "The forecast accuracy on threshold=0.8 is 82.6%, made 23 safe predictions\n"
          ]
        }
      ]
    },
    {
      "cell_type": "markdown",
      "source": [
        "### Observasion\n",
        "The calculations above indicate that as the threshold surpasses 0.5, the accuracy rises in conjunction with the threshold value. This implies that by elevating the threshold, we can obtain predictions with greater accuracy. However, this also results in a reduction in the number of safe predictions."
      ],
      "metadata": {
        "id": "lVC174UdwsDK"
      }
    },
    {
      "cell_type": "markdown",
      "source": [
        "We'll experiment to see if adjusting the values for look_back and next_days can improve performance."
      ],
      "metadata": {
        "id": "h4WSRAc_0bDm"
      }
    },
    {
      "cell_type": "code",
      "source": [
        "test_range = np.array([[20,20], [20,10], [10,10], [10,5]])\n",
        "# test_range = [(10,10), (10,5)]\n",
        "models = []\n",
        "preds = []\n",
        "ys = []\n",
        "number_of_predictions = []\n",
        "number_of_right_predictions = []\n",
        "accuracy = []\n",
        "shreshold = 0.8\n",
        "def test_change_model(shreshold=shreshold, show_summary=False):\n",
        "  for look_back, next_days in test_range:\n",
        "    # shif data based on look_back, next_days\n",
        "    shifted_X, shifted_y = shift_data(X, y, look_back, next_days)\n",
        "    # get price change label\n",
        "    new_y = get_diff(shifted_y, y, look_back)\n",
        "    ys.append(new_y)\n",
        "    # get train, val data\n",
        "    Xtrain, ytrain, Xval, yval = get_train_val(shifted_X, new_y)\n",
        "    # create model\n",
        "    model = get_model(change_mode=True, look_back=look_back, show_summary=show_summary)\n",
        "    # save model to models\n",
        "    models.append(model)\n",
        "    # train current model\n",
        "    train_model(model, Xtrain, ytrain, epochs=50, verbose=0)\n",
        "    # get prediction\n",
        "    pred = predict(model, Xval)\n",
        "    preds.append(pred)\n",
        "    # get safe predictions\n",
        "    safe_pred = np.array([ 1 if val > shreshold else 0 for val in pred])\n",
        "    # get number of safe predictions\n",
        "    total_predictions = safe_pred.sum()\n",
        "    number_of_predictions.append(total_predictions)\n",
        "    # get right predictions\n",
        "    right_pred = np.array([1 if (safe_pred[i] == 1 and new_y[i] == 1) else 0 for i in range(len(pred))])\n",
        "    # get number of correct predictions\n",
        "    right_number = right_pred.sum()\n",
        "    number_of_right_predictions.append(right_number)\n",
        "    # add 0.0000001 in case total_predictions is 0\n",
        "    accuracy.append(f'{right_number/(total_predictions+0.0000001)*100:.1f}')\n"
      ],
      "metadata": {
        "id": "pP_TNI2o0ypU"
      },
      "execution_count": 528,
      "outputs": []
    },
    {
      "cell_type": "code",
      "source": [
        "# try different length of look_back and next_days\n",
        "test_change_model()"
      ],
      "metadata": {
        "colab": {
          "base_uri": "https://localhost:8080/"
        },
        "id": "saxFzIgH6NCO",
        "outputId": "251a0b19-5bf3-4698-b51e-caeaf38d09c8"
      },
      "execution_count": 529,
      "outputs": [
        {
          "output_type": "stream",
          "name": "stdout",
          "text": [
            "8/8 [==============================] - 0s 5ms/step\n",
            "8/8 [==============================] - 0s 6ms/step\n",
            "8/8 [==============================] - 0s 5ms/step\n",
            "8/8 [==============================] - 0s 5ms/step\n"
          ]
        }
      ]
    },
    {
      "cell_type": "code",
      "source": [
        "score = pd.DataFrame({\"Look Back\": test_range[:,0], \"Next Days\": test_range[:,1], \"Number of Prediction\": number_of_predictions, \"Number of Right Prediction\" : number_of_right_predictions, \"Acuuracy\" :accuracy })\n",
        "score"
      ],
      "metadata": {
        "colab": {
          "base_uri": "https://localhost:8080/",
          "height": 174
        },
        "id": "njpIhovVLcHu",
        "outputId": "eff220fc-a70c-437f-dbfc-db152c80e8bd"
      },
      "execution_count": 530,
      "outputs": [
        {
          "output_type": "execute_result",
          "data": {
            "text/plain": [
              "   Look Back  Next Days  Number of Prediction  Number of Right Prediction  \\\n",
              "0         20         20                    18                          14   \n",
              "1         20         10                    11                          11   \n",
              "2         10         10                     0                           0   \n",
              "3         10          5                     0                           0   \n",
              "\n",
              "  Acuuracy  \n",
              "0     77.8  \n",
              "1    100.0  \n",
              "2      0.0  \n",
              "3      0.0  "
            ],
            "text/html": [
              "\n",
              "  <div id=\"df-74bf2669-eeba-4183-8400-8404cc162ae7\" class=\"colab-df-container\">\n",
              "    <div>\n",
              "<style scoped>\n",
              "    .dataframe tbody tr th:only-of-type {\n",
              "        vertical-align: middle;\n",
              "    }\n",
              "\n",
              "    .dataframe tbody tr th {\n",
              "        vertical-align: top;\n",
              "    }\n",
              "\n",
              "    .dataframe thead th {\n",
              "        text-align: right;\n",
              "    }\n",
              "</style>\n",
              "<table border=\"1\" class=\"dataframe\">\n",
              "  <thead>\n",
              "    <tr style=\"text-align: right;\">\n",
              "      <th></th>\n",
              "      <th>Look Back</th>\n",
              "      <th>Next Days</th>\n",
              "      <th>Number of Prediction</th>\n",
              "      <th>Number of Right Prediction</th>\n",
              "      <th>Acuuracy</th>\n",
              "    </tr>\n",
              "  </thead>\n",
              "  <tbody>\n",
              "    <tr>\n",
              "      <th>0</th>\n",
              "      <td>20</td>\n",
              "      <td>20</td>\n",
              "      <td>18</td>\n",
              "      <td>14</td>\n",
              "      <td>77.8</td>\n",
              "    </tr>\n",
              "    <tr>\n",
              "      <th>1</th>\n",
              "      <td>20</td>\n",
              "      <td>10</td>\n",
              "      <td>11</td>\n",
              "      <td>11</td>\n",
              "      <td>100.0</td>\n",
              "    </tr>\n",
              "    <tr>\n",
              "      <th>2</th>\n",
              "      <td>10</td>\n",
              "      <td>10</td>\n",
              "      <td>0</td>\n",
              "      <td>0</td>\n",
              "      <td>0.0</td>\n",
              "    </tr>\n",
              "    <tr>\n",
              "      <th>3</th>\n",
              "      <td>10</td>\n",
              "      <td>5</td>\n",
              "      <td>0</td>\n",
              "      <td>0</td>\n",
              "      <td>0.0</td>\n",
              "    </tr>\n",
              "  </tbody>\n",
              "</table>\n",
              "</div>\n",
              "    <div class=\"colab-df-buttons\">\n",
              "\n",
              "  <div class=\"colab-df-container\">\n",
              "    <button class=\"colab-df-convert\" onclick=\"convertToInteractive('df-74bf2669-eeba-4183-8400-8404cc162ae7')\"\n",
              "            title=\"Convert this dataframe to an interactive table.\"\n",
              "            style=\"display:none;\">\n",
              "\n",
              "  <svg xmlns=\"http://www.w3.org/2000/svg\" height=\"24px\" viewBox=\"0 -960 960 960\">\n",
              "    <path d=\"M120-120v-720h720v720H120Zm60-500h600v-160H180v160Zm220 220h160v-160H400v160Zm0 220h160v-160H400v160ZM180-400h160v-160H180v160Zm440 0h160v-160H620v160ZM180-180h160v-160H180v160Zm440 0h160v-160H620v160Z\"/>\n",
              "  </svg>\n",
              "    </button>\n",
              "\n",
              "  <style>\n",
              "    .colab-df-container {\n",
              "      display:flex;\n",
              "      gap: 12px;\n",
              "    }\n",
              "\n",
              "    .colab-df-convert {\n",
              "      background-color: #E8F0FE;\n",
              "      border: none;\n",
              "      border-radius: 50%;\n",
              "      cursor: pointer;\n",
              "      display: none;\n",
              "      fill: #1967D2;\n",
              "      height: 32px;\n",
              "      padding: 0 0 0 0;\n",
              "      width: 32px;\n",
              "    }\n",
              "\n",
              "    .colab-df-convert:hover {\n",
              "      background-color: #E2EBFA;\n",
              "      box-shadow: 0px 1px 2px rgba(60, 64, 67, 0.3), 0px 1px 3px 1px rgba(60, 64, 67, 0.15);\n",
              "      fill: #174EA6;\n",
              "    }\n",
              "\n",
              "    .colab-df-buttons div {\n",
              "      margin-bottom: 4px;\n",
              "    }\n",
              "\n",
              "    [theme=dark] .colab-df-convert {\n",
              "      background-color: #3B4455;\n",
              "      fill: #D2E3FC;\n",
              "    }\n",
              "\n",
              "    [theme=dark] .colab-df-convert:hover {\n",
              "      background-color: #434B5C;\n",
              "      box-shadow: 0px 1px 3px 1px rgba(0, 0, 0, 0.15);\n",
              "      filter: drop-shadow(0px 1px 2px rgba(0, 0, 0, 0.3));\n",
              "      fill: #FFFFFF;\n",
              "    }\n",
              "  </style>\n",
              "\n",
              "    <script>\n",
              "      const buttonEl =\n",
              "        document.querySelector('#df-74bf2669-eeba-4183-8400-8404cc162ae7 button.colab-df-convert');\n",
              "      buttonEl.style.display =\n",
              "        google.colab.kernel.accessAllowed ? 'block' : 'none';\n",
              "\n",
              "      async function convertToInteractive(key) {\n",
              "        const element = document.querySelector('#df-74bf2669-eeba-4183-8400-8404cc162ae7');\n",
              "        const dataTable =\n",
              "          await google.colab.kernel.invokeFunction('convertToInteractive',\n",
              "                                                    [key], {});\n",
              "        if (!dataTable) return;\n",
              "\n",
              "        const docLinkHtml = 'Like what you see? Visit the ' +\n",
              "          '<a target=\"_blank\" href=https://colab.research.google.com/notebooks/data_table.ipynb>data table notebook</a>'\n",
              "          + ' to learn more about interactive tables.';\n",
              "        element.innerHTML = '';\n",
              "        dataTable['output_type'] = 'display_data';\n",
              "        await google.colab.output.renderOutput(dataTable, element);\n",
              "        const docLink = document.createElement('div');\n",
              "        docLink.innerHTML = docLinkHtml;\n",
              "        element.appendChild(docLink);\n",
              "      }\n",
              "    </script>\n",
              "  </div>\n",
              "\n",
              "\n",
              "<div id=\"df-b617462a-d2c3-4a74-aedc-80f0c97fc23f\">\n",
              "  <button class=\"colab-df-quickchart\" onclick=\"quickchart('df-b617462a-d2c3-4a74-aedc-80f0c97fc23f')\"\n",
              "            title=\"Suggest charts\"\n",
              "            style=\"display:none;\">\n",
              "\n",
              "<svg xmlns=\"http://www.w3.org/2000/svg\" height=\"24px\"viewBox=\"0 0 24 24\"\n",
              "     width=\"24px\">\n",
              "    <g>\n",
              "        <path d=\"M19 3H5c-1.1 0-2 .9-2 2v14c0 1.1.9 2 2 2h14c1.1 0 2-.9 2-2V5c0-1.1-.9-2-2-2zM9 17H7v-7h2v7zm4 0h-2V7h2v10zm4 0h-2v-4h2v4z\"/>\n",
              "    </g>\n",
              "</svg>\n",
              "  </button>\n",
              "\n",
              "<style>\n",
              "  .colab-df-quickchart {\n",
              "      --bg-color: #E8F0FE;\n",
              "      --fill-color: #1967D2;\n",
              "      --hover-bg-color: #E2EBFA;\n",
              "      --hover-fill-color: #174EA6;\n",
              "      --disabled-fill-color: #AAA;\n",
              "      --disabled-bg-color: #DDD;\n",
              "  }\n",
              "\n",
              "  [theme=dark] .colab-df-quickchart {\n",
              "      --bg-color: #3B4455;\n",
              "      --fill-color: #D2E3FC;\n",
              "      --hover-bg-color: #434B5C;\n",
              "      --hover-fill-color: #FFFFFF;\n",
              "      --disabled-bg-color: #3B4455;\n",
              "      --disabled-fill-color: #666;\n",
              "  }\n",
              "\n",
              "  .colab-df-quickchart {\n",
              "    background-color: var(--bg-color);\n",
              "    border: none;\n",
              "    border-radius: 50%;\n",
              "    cursor: pointer;\n",
              "    display: none;\n",
              "    fill: var(--fill-color);\n",
              "    height: 32px;\n",
              "    padding: 0;\n",
              "    width: 32px;\n",
              "  }\n",
              "\n",
              "  .colab-df-quickchart:hover {\n",
              "    background-color: var(--hover-bg-color);\n",
              "    box-shadow: 0 1px 2px rgba(60, 64, 67, 0.3), 0 1px 3px 1px rgba(60, 64, 67, 0.15);\n",
              "    fill: var(--button-hover-fill-color);\n",
              "  }\n",
              "\n",
              "  .colab-df-quickchart-complete:disabled,\n",
              "  .colab-df-quickchart-complete:disabled:hover {\n",
              "    background-color: var(--disabled-bg-color);\n",
              "    fill: var(--disabled-fill-color);\n",
              "    box-shadow: none;\n",
              "  }\n",
              "\n",
              "  .colab-df-spinner {\n",
              "    border: 2px solid var(--fill-color);\n",
              "    border-color: transparent;\n",
              "    border-bottom-color: var(--fill-color);\n",
              "    animation:\n",
              "      spin 1s steps(1) infinite;\n",
              "  }\n",
              "\n",
              "  @keyframes spin {\n",
              "    0% {\n",
              "      border-color: transparent;\n",
              "      border-bottom-color: var(--fill-color);\n",
              "      border-left-color: var(--fill-color);\n",
              "    }\n",
              "    20% {\n",
              "      border-color: transparent;\n",
              "      border-left-color: var(--fill-color);\n",
              "      border-top-color: var(--fill-color);\n",
              "    }\n",
              "    30% {\n",
              "      border-color: transparent;\n",
              "      border-left-color: var(--fill-color);\n",
              "      border-top-color: var(--fill-color);\n",
              "      border-right-color: var(--fill-color);\n",
              "    }\n",
              "    40% {\n",
              "      border-color: transparent;\n",
              "      border-right-color: var(--fill-color);\n",
              "      border-top-color: var(--fill-color);\n",
              "    }\n",
              "    60% {\n",
              "      border-color: transparent;\n",
              "      border-right-color: var(--fill-color);\n",
              "    }\n",
              "    80% {\n",
              "      border-color: transparent;\n",
              "      border-right-color: var(--fill-color);\n",
              "      border-bottom-color: var(--fill-color);\n",
              "    }\n",
              "    90% {\n",
              "      border-color: transparent;\n",
              "      border-bottom-color: var(--fill-color);\n",
              "    }\n",
              "  }\n",
              "</style>\n",
              "\n",
              "  <script>\n",
              "    async function quickchart(key) {\n",
              "      const quickchartButtonEl =\n",
              "        document.querySelector('#' + key + ' button');\n",
              "      quickchartButtonEl.disabled = true;  // To prevent multiple clicks.\n",
              "      quickchartButtonEl.classList.add('colab-df-spinner');\n",
              "      try {\n",
              "        const charts = await google.colab.kernel.invokeFunction(\n",
              "            'suggestCharts', [key], {});\n",
              "      } catch (error) {\n",
              "        console.error('Error during call to suggestCharts:', error);\n",
              "      }\n",
              "      quickchartButtonEl.classList.remove('colab-df-spinner');\n",
              "      quickchartButtonEl.classList.add('colab-df-quickchart-complete');\n",
              "    }\n",
              "    (() => {\n",
              "      let quickchartButtonEl =\n",
              "        document.querySelector('#df-b617462a-d2c3-4a74-aedc-80f0c97fc23f button');\n",
              "      quickchartButtonEl.style.display =\n",
              "        google.colab.kernel.accessAllowed ? 'block' : 'none';\n",
              "    })();\n",
              "  </script>\n",
              "</div>\n",
              "    </div>\n",
              "  </div>\n"
            ]
          },
          "metadata": {},
          "execution_count": 530
        }
      ]
    },
    {
      "cell_type": "markdown",
      "source": [
        "\n",
        "It appears that the best performance is achieved when look_back=20 and next_days=10, with a threshold of 0.8. Let's closely examine this model."
      ],
      "metadata": {
        "id": "dAfgAbYsPqdA"
      }
    },
    {
      "cell_type": "code",
      "source": [
        "# get the prediction and actual for model with index 1\n",
        "diff_pred_2 = preds[1]\n",
        "new_y_2 = ys[1]\n",
        "for t in thresholds:\n",
        "  check_accuracy_on_threshold(t, diff_pred_2, new_y_2)"
      ],
      "metadata": {
        "colab": {
          "base_uri": "https://localhost:8080/"
        },
        "id": "oHlZrXgYLb_T",
        "outputId": "453eaae8-5026-4c8b-8a2c-df4c2cc01d16"
      },
      "execution_count": 531,
      "outputs": [
        {
          "output_type": "stream",
          "name": "stdout",
          "text": [
            "The forecast accuracy on threshold=0.0 is 53.7%, made 246 safe predictions\n",
            "The forecast accuracy on threshold=0.1 is 53.7%, made 246 safe predictions\n",
            "The forecast accuracy on threshold=0.2 is 53.7%, made 246 safe predictions\n",
            "The forecast accuracy on threshold=0.3 is 54.3%, made 243 safe predictions\n",
            "The forecast accuracy on threshold=0.4 is 51.7%, made 209 safe predictions\n",
            "The forecast accuracy on threshold=0.5 is 56.8%, made 118 safe predictions\n",
            "The forecast accuracy on threshold=0.6 is 58.5%, made 65 safe predictions\n",
            "The forecast accuracy on threshold=0.7 is 100.0%, made 22 safe predictions\n",
            "The forecast accuracy on threshold=0.8 is 100.0%, made 11 safe predictions\n"
          ]
        }
      ]
    },
    {
      "cell_type": "markdown",
      "source": [
        "### Best model\n",
        "Contrasted with the model utilizing look_back=20 and next_days=3, the present model demonstrates superior performance. Particularly noteworthy is that, with a threshold of 0.7, this model attains a perfect 100% accuracy in its predictions. Consequently, the optimal configuration for the model is to set look_back=20, next_days=10, and the threshold to 0.7. In this scenario, if the model predicts an increase in XBI's price over the next 10 days, one could buy XBI at the closing time of the market and sell it at the closing time 10 days later, ensuring a 100% chance of positive returns."
      ],
      "metadata": {
        "id": "pE8d07vYZ_nP"
      }
    },
    {
      "cell_type": "markdown",
      "source": [
        "## Summary\n",
        "By experimenting with various machine learning models and label processing techniques, we could draw the following conclusions:\n",
        "\n",
        "1. The inclusion of changes in treasury yields does not enhance the accuracy of predictions for XBI stock prices.\n",
        "\n",
        "2. The utilization of LSTM or convolutional networks does not outperform the use of RNN models.\n",
        "\n",
        "3. Reprocessing the data, enabling the neural network to learn the direction of stock price changes (up/down), and implementing a specific threshold can enhance prediction accuracy. However, this results in fewer predictions, diminishing potential investment opportunities.\n",
        "\n",
        "4. Predictions for stock price change directions, exhibit lower accuracy for both shorter (3 days in the future) and longer periods (20 days in the future) compared to the median (10 days in the future).\n",
        "\n",
        "5. Overall, there is a higher likelihood of achieving a satisfactory return on investment using the stock prediction model, although additional testing and adjustments are necessary."
      ],
      "metadata": {
        "id": "NMMA2s-j_Y2K"
      }
    }
  ]
}